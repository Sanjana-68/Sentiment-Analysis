{
  "cells": [
    {
      "cell_type": "markdown",
      "metadata": {
        "id": "view-in-github",
        "colab_type": "text"
      },
      "source": [
        "<a href=\"https://colab.research.google.com/github/Sanjana-68/Sentiment-Analysis/blob/main/Mini_Project_code.ipynb\" target=\"_parent\"><img src=\"https://colab.research.google.com/assets/colab-badge.svg\" alt=\"Open In Colab\"/></a>"
      ]
    },
    {
      "cell_type": "markdown",
      "metadata": {
        "id": "06jeDpHsam4i"
      },
      "source": [
        "**Importing the libraries**"
      ]
    },
    {
      "cell_type": "code",
      "execution_count": null,
      "metadata": {
        "id": "K6vDnmibaknJ",
        "colab": {
          "base_uri": "https://localhost:8080/"
        },
        "outputId": "85f4f5c2-6c7b-461f-88f1-df7283a04f2f"
      },
      "outputs": [
        {
          "output_type": "stream",
          "name": "stdout",
          "text": [
            "Collecting scikit-plot\n",
            "  Downloading scikit_plot-0.3.7-py3-none-any.whl (33 kB)\n",
            "Requirement already satisfied: matplotlib>=1.4.0 in /usr/local/lib/python3.10/dist-packages (from scikit-plot) (3.7.1)\n",
            "Requirement already satisfied: scikit-learn>=0.18 in /usr/local/lib/python3.10/dist-packages (from scikit-plot) (1.2.2)\n",
            "Requirement already satisfied: scipy>=0.9 in /usr/local/lib/python3.10/dist-packages (from scikit-plot) (1.11.4)\n",
            "Requirement already satisfied: joblib>=0.10 in /usr/local/lib/python3.10/dist-packages (from scikit-plot) (1.4.2)\n",
            "Requirement already satisfied: contourpy>=1.0.1 in /usr/local/lib/python3.10/dist-packages (from matplotlib>=1.4.0->scikit-plot) (1.2.1)\n",
            "Requirement already satisfied: cycler>=0.10 in /usr/local/lib/python3.10/dist-packages (from matplotlib>=1.4.0->scikit-plot) (0.12.1)\n",
            "Requirement already satisfied: fonttools>=4.22.0 in /usr/local/lib/python3.10/dist-packages (from matplotlib>=1.4.0->scikit-plot) (4.51.0)\n",
            "Requirement already satisfied: kiwisolver>=1.0.1 in /usr/local/lib/python3.10/dist-packages (from matplotlib>=1.4.0->scikit-plot) (1.4.5)\n",
            "Requirement already satisfied: numpy>=1.20 in /usr/local/lib/python3.10/dist-packages (from matplotlib>=1.4.0->scikit-plot) (1.25.2)\n",
            "Requirement already satisfied: packaging>=20.0 in /usr/local/lib/python3.10/dist-packages (from matplotlib>=1.4.0->scikit-plot) (24.0)\n",
            "Requirement already satisfied: pillow>=6.2.0 in /usr/local/lib/python3.10/dist-packages (from matplotlib>=1.4.0->scikit-plot) (9.4.0)\n",
            "Requirement already satisfied: pyparsing>=2.3.1 in /usr/local/lib/python3.10/dist-packages (from matplotlib>=1.4.0->scikit-plot) (3.1.2)\n",
            "Requirement already satisfied: python-dateutil>=2.7 in /usr/local/lib/python3.10/dist-packages (from matplotlib>=1.4.0->scikit-plot) (2.8.2)\n",
            "Requirement already satisfied: threadpoolctl>=2.0.0 in /usr/local/lib/python3.10/dist-packages (from scikit-learn>=0.18->scikit-plot) (3.5.0)\n",
            "Requirement already satisfied: six>=1.5 in /usr/local/lib/python3.10/dist-packages (from python-dateutil>=2.7->matplotlib>=1.4.0->scikit-plot) (1.16.0)\n",
            "Installing collected packages: scikit-plot\n",
            "Successfully installed scikit-plot-0.3.7\n"
          ]
        }
      ],
      "source": [
        "!pip install scikit-plot"
      ]
    },
    {
      "cell_type": "code",
      "execution_count": null,
      "metadata": {
        "id": "6V30-xgXaifp"
      },
      "outputs": [],
      "source": [
        "import pandas as pd\n",
        "import numpy as np\n",
        "import seaborn as sns\n",
        "import matplotlib.pyplot as plt\n",
        "import re"
      ]
    },
    {
      "cell_type": "code",
      "execution_count": null,
      "metadata": {
        "colab": {
          "base_uri": "https://localhost:8080/"
        },
        "id": "s4rZhzNjb50E",
        "outputId": "a345e6c8-fc31-432a-c840-0cf786494ce3"
      },
      "outputs": [
        {
          "output_type": "stream",
          "name": "stdout",
          "text": [
            "Requirement already satisfied: nltk in /usr/local/lib/python3.10/dist-packages (3.8.1)\n",
            "Requirement already satisfied: click in /usr/local/lib/python3.10/dist-packages (from nltk) (8.1.7)\n",
            "Requirement already satisfied: joblib in /usr/local/lib/python3.10/dist-packages (from nltk) (1.4.2)\n",
            "Requirement already satisfied: regex>=2021.8.3 in /usr/local/lib/python3.10/dist-packages (from nltk) (2023.12.25)\n",
            "Requirement already satisfied: tqdm in /usr/local/lib/python3.10/dist-packages (from nltk) (4.66.4)\n"
          ]
        }
      ],
      "source": [
        "!pip install nltk"
      ]
    },
    {
      "cell_type": "code",
      "execution_count": null,
      "metadata": {
        "colab": {
          "base_uri": "https://localhost:8080/"
        },
        "id": "oWEtAmzZb_qv",
        "outputId": "1036311e-0fb3-4c3a-c821-151e3e09e9ee"
      },
      "outputs": [
        {
          "output_type": "stream",
          "name": "stderr",
          "text": [
            "[nltk_data] Downloading package stopwords to /root/nltk_data...\n",
            "[nltk_data]   Unzipping corpora/stopwords.zip.\n",
            "[nltk_data] Downloading package wordnet to /root/nltk_data...\n"
          ]
        },
        {
          "output_type": "execute_result",
          "data": {
            "text/plain": [
              "True"
            ]
          },
          "metadata": {},
          "execution_count": 4
        }
      ],
      "source": [
        "import nltk\n",
        "from nltk.corpus import stopwords\n",
        "from nltk.stem import WordNetLemmatizer\n",
        "nltk.download('stopwords')\n",
        "nltk.download('wordnet')"
      ]
    },
    {
      "cell_type": "code",
      "execution_count": null,
      "metadata": {
        "id": "gCN-7qF3cLuz"
      },
      "outputs": [],
      "source": [
        "import scikitplot as skplt\n",
        "from sklearn.metrics import accuracy_score,confusion_matrix,classification_report\n",
        "from scikitplot.metrics import plot_confusion_matrix"
      ]
    },
    {
      "cell_type": "code",
      "execution_count": null,
      "metadata": {
        "id": "7ppIS-fodLDu"
      },
      "outputs": [],
      "source": [
        "df_train = pd.read_csv(\"train.txt\",delimiter=';',names=['text','label'])\n",
        "df_val = pd.read_csv(\"val.txt\",delimiter=';',names=['text','label'])"
      ]
    },
    {
      "cell_type": "code",
      "execution_count": null,
      "metadata": {
        "colab": {
          "base_uri": "https://localhost:8080/"
        },
        "id": "GjgoEdA0dMVO",
        "outputId": "a54df86c-5350-4bd8-8da2-58c00f78ba48"
      },
      "outputs": [
        {
          "output_type": "stream",
          "name": "stdout",
          "text": [
            "Shape of the DataFrame: (18000, 2)\n"
          ]
        }
      ],
      "source": [
        "df = pd.concat([df_train,df_val])\n",
        "print(\"Shape of the DataFrame:\",df.shape)\n",
        "df.reset_index(inplace=True,drop=True)"
      ]
    },
    {
      "cell_type": "code",
      "execution_count": null,
      "metadata": {
        "colab": {
          "base_uri": "https://localhost:8080/",
          "height": 206
        },
        "id": "0WcgwYYmdTdT",
        "outputId": "8473537d-f6e9-4f62-ae54-959fe8a7787a"
      },
      "outputs": [
        {
          "output_type": "execute_result",
          "data": {
            "text/plain": [
              "                                                text    label\n",
              "0                            i didnt feel humiliated  sadness\n",
              "1  i can go from feeling so hopeless to so damned...  sadness\n",
              "2   im grabbing a minute to post i feel greedy wrong    anger\n",
              "3  i am ever feeling nostalgic about the fireplac...     love\n",
              "4                               i am feeling grouchy    anger"
            ],
            "text/html": [
              "\n",
              "  <div id=\"df-f7360405-575c-4fe7-839f-86b4df30c3f6\" class=\"colab-df-container\">\n",
              "    <div>\n",
              "<style scoped>\n",
              "    .dataframe tbody tr th:only-of-type {\n",
              "        vertical-align: middle;\n",
              "    }\n",
              "\n",
              "    .dataframe tbody tr th {\n",
              "        vertical-align: top;\n",
              "    }\n",
              "\n",
              "    .dataframe thead th {\n",
              "        text-align: right;\n",
              "    }\n",
              "</style>\n",
              "<table border=\"1\" class=\"dataframe\">\n",
              "  <thead>\n",
              "    <tr style=\"text-align: right;\">\n",
              "      <th></th>\n",
              "      <th>text</th>\n",
              "      <th>label</th>\n",
              "    </tr>\n",
              "  </thead>\n",
              "  <tbody>\n",
              "    <tr>\n",
              "      <th>0</th>\n",
              "      <td>i didnt feel humiliated</td>\n",
              "      <td>sadness</td>\n",
              "    </tr>\n",
              "    <tr>\n",
              "      <th>1</th>\n",
              "      <td>i can go from feeling so hopeless to so damned...</td>\n",
              "      <td>sadness</td>\n",
              "    </tr>\n",
              "    <tr>\n",
              "      <th>2</th>\n",
              "      <td>im grabbing a minute to post i feel greedy wrong</td>\n",
              "      <td>anger</td>\n",
              "    </tr>\n",
              "    <tr>\n",
              "      <th>3</th>\n",
              "      <td>i am ever feeling nostalgic about the fireplac...</td>\n",
              "      <td>love</td>\n",
              "    </tr>\n",
              "    <tr>\n",
              "      <th>4</th>\n",
              "      <td>i am feeling grouchy</td>\n",
              "      <td>anger</td>\n",
              "    </tr>\n",
              "  </tbody>\n",
              "</table>\n",
              "</div>\n",
              "    <div class=\"colab-df-buttons\">\n",
              "\n",
              "  <div class=\"colab-df-container\">\n",
              "    <button class=\"colab-df-convert\" onclick=\"convertToInteractive('df-f7360405-575c-4fe7-839f-86b4df30c3f6')\"\n",
              "            title=\"Convert this dataframe to an interactive table.\"\n",
              "            style=\"display:none;\">\n",
              "\n",
              "  <svg xmlns=\"http://www.w3.org/2000/svg\" height=\"24px\" viewBox=\"0 -960 960 960\">\n",
              "    <path d=\"M120-120v-720h720v720H120Zm60-500h600v-160H180v160Zm220 220h160v-160H400v160Zm0 220h160v-160H400v160ZM180-400h160v-160H180v160Zm440 0h160v-160H620v160ZM180-180h160v-160H180v160Zm440 0h160v-160H620v160Z\"/>\n",
              "  </svg>\n",
              "    </button>\n",
              "\n",
              "  <style>\n",
              "    .colab-df-container {\n",
              "      display:flex;\n",
              "      gap: 12px;\n",
              "    }\n",
              "\n",
              "    .colab-df-convert {\n",
              "      background-color: #E8F0FE;\n",
              "      border: none;\n",
              "      border-radius: 50%;\n",
              "      cursor: pointer;\n",
              "      display: none;\n",
              "      fill: #1967D2;\n",
              "      height: 32px;\n",
              "      padding: 0 0 0 0;\n",
              "      width: 32px;\n",
              "    }\n",
              "\n",
              "    .colab-df-convert:hover {\n",
              "      background-color: #E2EBFA;\n",
              "      box-shadow: 0px 1px 2px rgba(60, 64, 67, 0.3), 0px 1px 3px 1px rgba(60, 64, 67, 0.15);\n",
              "      fill: #174EA6;\n",
              "    }\n",
              "\n",
              "    .colab-df-buttons div {\n",
              "      margin-bottom: 4px;\n",
              "    }\n",
              "\n",
              "    [theme=dark] .colab-df-convert {\n",
              "      background-color: #3B4455;\n",
              "      fill: #D2E3FC;\n",
              "    }\n",
              "\n",
              "    [theme=dark] .colab-df-convert:hover {\n",
              "      background-color: #434B5C;\n",
              "      box-shadow: 0px 1px 3px 1px rgba(0, 0, 0, 0.15);\n",
              "      filter: drop-shadow(0px 1px 2px rgba(0, 0, 0, 0.3));\n",
              "      fill: #FFFFFF;\n",
              "    }\n",
              "  </style>\n",
              "\n",
              "    <script>\n",
              "      const buttonEl =\n",
              "        document.querySelector('#df-f7360405-575c-4fe7-839f-86b4df30c3f6 button.colab-df-convert');\n",
              "      buttonEl.style.display =\n",
              "        google.colab.kernel.accessAllowed ? 'block' : 'none';\n",
              "\n",
              "      async function convertToInteractive(key) {\n",
              "        const element = document.querySelector('#df-f7360405-575c-4fe7-839f-86b4df30c3f6');\n",
              "        const dataTable =\n",
              "          await google.colab.kernel.invokeFunction('convertToInteractive',\n",
              "                                                    [key], {});\n",
              "        if (!dataTable) return;\n",
              "\n",
              "        const docLinkHtml = 'Like what you see? Visit the ' +\n",
              "          '<a target=\"_blank\" href=https://colab.research.google.com/notebooks/data_table.ipynb>data table notebook</a>'\n",
              "          + ' to learn more about interactive tables.';\n",
              "        element.innerHTML = '';\n",
              "        dataTable['output_type'] = 'display_data';\n",
              "        await google.colab.output.renderOutput(dataTable, element);\n",
              "        const docLink = document.createElement('div');\n",
              "        docLink.innerHTML = docLinkHtml;\n",
              "        element.appendChild(docLink);\n",
              "      }\n",
              "    </script>\n",
              "  </div>\n",
              "\n",
              "\n",
              "<div id=\"df-e7029a5e-d60b-4b03-8d1b-f9bbaa8b0724\">\n",
              "  <button class=\"colab-df-quickchart\" onclick=\"quickchart('df-e7029a5e-d60b-4b03-8d1b-f9bbaa8b0724')\"\n",
              "            title=\"Suggest charts\"\n",
              "            style=\"display:none;\">\n",
              "\n",
              "<svg xmlns=\"http://www.w3.org/2000/svg\" height=\"24px\"viewBox=\"0 0 24 24\"\n",
              "     width=\"24px\">\n",
              "    <g>\n",
              "        <path d=\"M19 3H5c-1.1 0-2 .9-2 2v14c0 1.1.9 2 2 2h14c1.1 0 2-.9 2-2V5c0-1.1-.9-2-2-2zM9 17H7v-7h2v7zm4 0h-2V7h2v10zm4 0h-2v-4h2v4z\"/>\n",
              "    </g>\n",
              "</svg>\n",
              "  </button>\n",
              "\n",
              "<style>\n",
              "  .colab-df-quickchart {\n",
              "      --bg-color: #E8F0FE;\n",
              "      --fill-color: #1967D2;\n",
              "      --hover-bg-color: #E2EBFA;\n",
              "      --hover-fill-color: #174EA6;\n",
              "      --disabled-fill-color: #AAA;\n",
              "      --disabled-bg-color: #DDD;\n",
              "  }\n",
              "\n",
              "  [theme=dark] .colab-df-quickchart {\n",
              "      --bg-color: #3B4455;\n",
              "      --fill-color: #D2E3FC;\n",
              "      --hover-bg-color: #434B5C;\n",
              "      --hover-fill-color: #FFFFFF;\n",
              "      --disabled-bg-color: #3B4455;\n",
              "      --disabled-fill-color: #666;\n",
              "  }\n",
              "\n",
              "  .colab-df-quickchart {\n",
              "    background-color: var(--bg-color);\n",
              "    border: none;\n",
              "    border-radius: 50%;\n",
              "    cursor: pointer;\n",
              "    display: none;\n",
              "    fill: var(--fill-color);\n",
              "    height: 32px;\n",
              "    padding: 0;\n",
              "    width: 32px;\n",
              "  }\n",
              "\n",
              "  .colab-df-quickchart:hover {\n",
              "    background-color: var(--hover-bg-color);\n",
              "    box-shadow: 0 1px 2px rgba(60, 64, 67, 0.3), 0 1px 3px 1px rgba(60, 64, 67, 0.15);\n",
              "    fill: var(--button-hover-fill-color);\n",
              "  }\n",
              "\n",
              "  .colab-df-quickchart-complete:disabled,\n",
              "  .colab-df-quickchart-complete:disabled:hover {\n",
              "    background-color: var(--disabled-bg-color);\n",
              "    fill: var(--disabled-fill-color);\n",
              "    box-shadow: none;\n",
              "  }\n",
              "\n",
              "  .colab-df-spinner {\n",
              "    border: 2px solid var(--fill-color);\n",
              "    border-color: transparent;\n",
              "    border-bottom-color: var(--fill-color);\n",
              "    animation:\n",
              "      spin 1s steps(1) infinite;\n",
              "  }\n",
              "\n",
              "  @keyframes spin {\n",
              "    0% {\n",
              "      border-color: transparent;\n",
              "      border-bottom-color: var(--fill-color);\n",
              "      border-left-color: var(--fill-color);\n",
              "    }\n",
              "    20% {\n",
              "      border-color: transparent;\n",
              "      border-left-color: var(--fill-color);\n",
              "      border-top-color: var(--fill-color);\n",
              "    }\n",
              "    30% {\n",
              "      border-color: transparent;\n",
              "      border-left-color: var(--fill-color);\n",
              "      border-top-color: var(--fill-color);\n",
              "      border-right-color: var(--fill-color);\n",
              "    }\n",
              "    40% {\n",
              "      border-color: transparent;\n",
              "      border-right-color: var(--fill-color);\n",
              "      border-top-color: var(--fill-color);\n",
              "    }\n",
              "    60% {\n",
              "      border-color: transparent;\n",
              "      border-right-color: var(--fill-color);\n",
              "    }\n",
              "    80% {\n",
              "      border-color: transparent;\n",
              "      border-right-color: var(--fill-color);\n",
              "      border-bottom-color: var(--fill-color);\n",
              "    }\n",
              "    90% {\n",
              "      border-color: transparent;\n",
              "      border-bottom-color: var(--fill-color);\n",
              "    }\n",
              "  }\n",
              "</style>\n",
              "\n",
              "  <script>\n",
              "    async function quickchart(key) {\n",
              "      const quickchartButtonEl =\n",
              "        document.querySelector('#' + key + ' button');\n",
              "      quickchartButtonEl.disabled = true;  // To prevent multiple clicks.\n",
              "      quickchartButtonEl.classList.add('colab-df-spinner');\n",
              "      try {\n",
              "        const charts = await google.colab.kernel.invokeFunction(\n",
              "            'suggestCharts', [key], {});\n",
              "      } catch (error) {\n",
              "        console.error('Error during call to suggestCharts:', error);\n",
              "      }\n",
              "      quickchartButtonEl.classList.remove('colab-df-spinner');\n",
              "      quickchartButtonEl.classList.add('colab-df-quickchart-complete');\n",
              "    }\n",
              "    (() => {\n",
              "      let quickchartButtonEl =\n",
              "        document.querySelector('#df-e7029a5e-d60b-4b03-8d1b-f9bbaa8b0724 button');\n",
              "      quickchartButtonEl.style.display =\n",
              "        google.colab.kernel.accessAllowed ? 'block' : 'none';\n",
              "    })();\n",
              "  </script>\n",
              "</div>\n",
              "\n",
              "    </div>\n",
              "  </div>\n"
            ],
            "application/vnd.google.colaboratory.intrinsic+json": {
              "type": "dataframe",
              "variable_name": "df",
              "summary": "{\n  \"name\": \"df\",\n  \"rows\": 18000,\n  \"fields\": [\n    {\n      \"column\": \"text\",\n      \"properties\": {\n        \"dtype\": \"string\",\n        \"num_unique_values\": 17962,\n        \"samples\": [\n          \"i like build quality and how the button layout changes according to the phone s function i also like that the haptic feedback really feels like the phone has buttons herrman is still convinced there aren t haptics\",\n          \"i wasnt so self conscious of my atrocious singing i think id be tempted to break out into this whenever a colleague is feeling defeated\",\n          \"i feel kind of lame this time around\"\n        ],\n        \"semantic_type\": \"\",\n        \"description\": \"\"\n      }\n    },\n    {\n      \"column\": \"label\",\n      \"properties\": {\n        \"dtype\": \"category\",\n        \"num_unique_values\": 6,\n        \"samples\": [\n          \"sadness\",\n          \"anger\",\n          \"joy\"\n        ],\n        \"semantic_type\": \"\",\n        \"description\": \"\"\n      }\n    }\n  ]\n}"
            }
          },
          "metadata": {},
          "execution_count": 8
        }
      ],
      "source": [
        "df.head()"
      ]
    },
    {
      "cell_type": "code",
      "execution_count": null,
      "metadata": {
        "colab": {
          "base_uri": "https://localhost:8080/",
          "height": 206
        },
        "id": "eo934NGGdhfr",
        "outputId": "100cb615-5c94-491f-d637-b58907d616f0"
      },
      "outputs": [
        {
          "output_type": "execute_result",
          "data": {
            "text/plain": [
              "                                                    text    label\n",
              "17995  im having ssa examination tomorrow in the morn...  sadness\n",
              "17996  i constantly worry about their fight against n...      joy\n",
              "17997  i feel its important to share this info for th...      joy\n",
              "17998  i truly feel that if you are passionate enough...      joy\n",
              "17999  i feel like i just wanna buy any cute make up ...      joy"
            ],
            "text/html": [
              "\n",
              "  <div id=\"df-bc03ebbc-8b53-4594-9fe2-56d48ed654f5\" class=\"colab-df-container\">\n",
              "    <div>\n",
              "<style scoped>\n",
              "    .dataframe tbody tr th:only-of-type {\n",
              "        vertical-align: middle;\n",
              "    }\n",
              "\n",
              "    .dataframe tbody tr th {\n",
              "        vertical-align: top;\n",
              "    }\n",
              "\n",
              "    .dataframe thead th {\n",
              "        text-align: right;\n",
              "    }\n",
              "</style>\n",
              "<table border=\"1\" class=\"dataframe\">\n",
              "  <thead>\n",
              "    <tr style=\"text-align: right;\">\n",
              "      <th></th>\n",
              "      <th>text</th>\n",
              "      <th>label</th>\n",
              "    </tr>\n",
              "  </thead>\n",
              "  <tbody>\n",
              "    <tr>\n",
              "      <th>17995</th>\n",
              "      <td>im having ssa examination tomorrow in the morn...</td>\n",
              "      <td>sadness</td>\n",
              "    </tr>\n",
              "    <tr>\n",
              "      <th>17996</th>\n",
              "      <td>i constantly worry about their fight against n...</td>\n",
              "      <td>joy</td>\n",
              "    </tr>\n",
              "    <tr>\n",
              "      <th>17997</th>\n",
              "      <td>i feel its important to share this info for th...</td>\n",
              "      <td>joy</td>\n",
              "    </tr>\n",
              "    <tr>\n",
              "      <th>17998</th>\n",
              "      <td>i truly feel that if you are passionate enough...</td>\n",
              "      <td>joy</td>\n",
              "    </tr>\n",
              "    <tr>\n",
              "      <th>17999</th>\n",
              "      <td>i feel like i just wanna buy any cute make up ...</td>\n",
              "      <td>joy</td>\n",
              "    </tr>\n",
              "  </tbody>\n",
              "</table>\n",
              "</div>\n",
              "    <div class=\"colab-df-buttons\">\n",
              "\n",
              "  <div class=\"colab-df-container\">\n",
              "    <button class=\"colab-df-convert\" onclick=\"convertToInteractive('df-bc03ebbc-8b53-4594-9fe2-56d48ed654f5')\"\n",
              "            title=\"Convert this dataframe to an interactive table.\"\n",
              "            style=\"display:none;\">\n",
              "\n",
              "  <svg xmlns=\"http://www.w3.org/2000/svg\" height=\"24px\" viewBox=\"0 -960 960 960\">\n",
              "    <path d=\"M120-120v-720h720v720H120Zm60-500h600v-160H180v160Zm220 220h160v-160H400v160Zm0 220h160v-160H400v160ZM180-400h160v-160H180v160Zm440 0h160v-160H620v160ZM180-180h160v-160H180v160Zm440 0h160v-160H620v160Z\"/>\n",
              "  </svg>\n",
              "    </button>\n",
              "\n",
              "  <style>\n",
              "    .colab-df-container {\n",
              "      display:flex;\n",
              "      gap: 12px;\n",
              "    }\n",
              "\n",
              "    .colab-df-convert {\n",
              "      background-color: #E8F0FE;\n",
              "      border: none;\n",
              "      border-radius: 50%;\n",
              "      cursor: pointer;\n",
              "      display: none;\n",
              "      fill: #1967D2;\n",
              "      height: 32px;\n",
              "      padding: 0 0 0 0;\n",
              "      width: 32px;\n",
              "    }\n",
              "\n",
              "    .colab-df-convert:hover {\n",
              "      background-color: #E2EBFA;\n",
              "      box-shadow: 0px 1px 2px rgba(60, 64, 67, 0.3), 0px 1px 3px 1px rgba(60, 64, 67, 0.15);\n",
              "      fill: #174EA6;\n",
              "    }\n",
              "\n",
              "    .colab-df-buttons div {\n",
              "      margin-bottom: 4px;\n",
              "    }\n",
              "\n",
              "    [theme=dark] .colab-df-convert {\n",
              "      background-color: #3B4455;\n",
              "      fill: #D2E3FC;\n",
              "    }\n",
              "\n",
              "    [theme=dark] .colab-df-convert:hover {\n",
              "      background-color: #434B5C;\n",
              "      box-shadow: 0px 1px 3px 1px rgba(0, 0, 0, 0.15);\n",
              "      filter: drop-shadow(0px 1px 2px rgba(0, 0, 0, 0.3));\n",
              "      fill: #FFFFFF;\n",
              "    }\n",
              "  </style>\n",
              "\n",
              "    <script>\n",
              "      const buttonEl =\n",
              "        document.querySelector('#df-bc03ebbc-8b53-4594-9fe2-56d48ed654f5 button.colab-df-convert');\n",
              "      buttonEl.style.display =\n",
              "        google.colab.kernel.accessAllowed ? 'block' : 'none';\n",
              "\n",
              "      async function convertToInteractive(key) {\n",
              "        const element = document.querySelector('#df-bc03ebbc-8b53-4594-9fe2-56d48ed654f5');\n",
              "        const dataTable =\n",
              "          await google.colab.kernel.invokeFunction('convertToInteractive',\n",
              "                                                    [key], {});\n",
              "        if (!dataTable) return;\n",
              "\n",
              "        const docLinkHtml = 'Like what you see? Visit the ' +\n",
              "          '<a target=\"_blank\" href=https://colab.research.google.com/notebooks/data_table.ipynb>data table notebook</a>'\n",
              "          + ' to learn more about interactive tables.';\n",
              "        element.innerHTML = '';\n",
              "        dataTable['output_type'] = 'display_data';\n",
              "        await google.colab.output.renderOutput(dataTable, element);\n",
              "        const docLink = document.createElement('div');\n",
              "        docLink.innerHTML = docLinkHtml;\n",
              "        element.appendChild(docLink);\n",
              "      }\n",
              "    </script>\n",
              "  </div>\n",
              "\n",
              "\n",
              "<div id=\"df-ea960eb9-d9ce-4754-a526-0387dab2ff09\">\n",
              "  <button class=\"colab-df-quickchart\" onclick=\"quickchart('df-ea960eb9-d9ce-4754-a526-0387dab2ff09')\"\n",
              "            title=\"Suggest charts\"\n",
              "            style=\"display:none;\">\n",
              "\n",
              "<svg xmlns=\"http://www.w3.org/2000/svg\" height=\"24px\"viewBox=\"0 0 24 24\"\n",
              "     width=\"24px\">\n",
              "    <g>\n",
              "        <path d=\"M19 3H5c-1.1 0-2 .9-2 2v14c0 1.1.9 2 2 2h14c1.1 0 2-.9 2-2V5c0-1.1-.9-2-2-2zM9 17H7v-7h2v7zm4 0h-2V7h2v10zm4 0h-2v-4h2v4z\"/>\n",
              "    </g>\n",
              "</svg>\n",
              "  </button>\n",
              "\n",
              "<style>\n",
              "  .colab-df-quickchart {\n",
              "      --bg-color: #E8F0FE;\n",
              "      --fill-color: #1967D2;\n",
              "      --hover-bg-color: #E2EBFA;\n",
              "      --hover-fill-color: #174EA6;\n",
              "      --disabled-fill-color: #AAA;\n",
              "      --disabled-bg-color: #DDD;\n",
              "  }\n",
              "\n",
              "  [theme=dark] .colab-df-quickchart {\n",
              "      --bg-color: #3B4455;\n",
              "      --fill-color: #D2E3FC;\n",
              "      --hover-bg-color: #434B5C;\n",
              "      --hover-fill-color: #FFFFFF;\n",
              "      --disabled-bg-color: #3B4455;\n",
              "      --disabled-fill-color: #666;\n",
              "  }\n",
              "\n",
              "  .colab-df-quickchart {\n",
              "    background-color: var(--bg-color);\n",
              "    border: none;\n",
              "    border-radius: 50%;\n",
              "    cursor: pointer;\n",
              "    display: none;\n",
              "    fill: var(--fill-color);\n",
              "    height: 32px;\n",
              "    padding: 0;\n",
              "    width: 32px;\n",
              "  }\n",
              "\n",
              "  .colab-df-quickchart:hover {\n",
              "    background-color: var(--hover-bg-color);\n",
              "    box-shadow: 0 1px 2px rgba(60, 64, 67, 0.3), 0 1px 3px 1px rgba(60, 64, 67, 0.15);\n",
              "    fill: var(--button-hover-fill-color);\n",
              "  }\n",
              "\n",
              "  .colab-df-quickchart-complete:disabled,\n",
              "  .colab-df-quickchart-complete:disabled:hover {\n",
              "    background-color: var(--disabled-bg-color);\n",
              "    fill: var(--disabled-fill-color);\n",
              "    box-shadow: none;\n",
              "  }\n",
              "\n",
              "  .colab-df-spinner {\n",
              "    border: 2px solid var(--fill-color);\n",
              "    border-color: transparent;\n",
              "    border-bottom-color: var(--fill-color);\n",
              "    animation:\n",
              "      spin 1s steps(1) infinite;\n",
              "  }\n",
              "\n",
              "  @keyframes spin {\n",
              "    0% {\n",
              "      border-color: transparent;\n",
              "      border-bottom-color: var(--fill-color);\n",
              "      border-left-color: var(--fill-color);\n",
              "    }\n",
              "    20% {\n",
              "      border-color: transparent;\n",
              "      border-left-color: var(--fill-color);\n",
              "      border-top-color: var(--fill-color);\n",
              "    }\n",
              "    30% {\n",
              "      border-color: transparent;\n",
              "      border-left-color: var(--fill-color);\n",
              "      border-top-color: var(--fill-color);\n",
              "      border-right-color: var(--fill-color);\n",
              "    }\n",
              "    40% {\n",
              "      border-color: transparent;\n",
              "      border-right-color: var(--fill-color);\n",
              "      border-top-color: var(--fill-color);\n",
              "    }\n",
              "    60% {\n",
              "      border-color: transparent;\n",
              "      border-right-color: var(--fill-color);\n",
              "    }\n",
              "    80% {\n",
              "      border-color: transparent;\n",
              "      border-right-color: var(--fill-color);\n",
              "      border-bottom-color: var(--fill-color);\n",
              "    }\n",
              "    90% {\n",
              "      border-color: transparent;\n",
              "      border-bottom-color: var(--fill-color);\n",
              "    }\n",
              "  }\n",
              "</style>\n",
              "\n",
              "  <script>\n",
              "    async function quickchart(key) {\n",
              "      const quickchartButtonEl =\n",
              "        document.querySelector('#' + key + ' button');\n",
              "      quickchartButtonEl.disabled = true;  // To prevent multiple clicks.\n",
              "      quickchartButtonEl.classList.add('colab-df-spinner');\n",
              "      try {\n",
              "        const charts = await google.colab.kernel.invokeFunction(\n",
              "            'suggestCharts', [key], {});\n",
              "      } catch (error) {\n",
              "        console.error('Error during call to suggestCharts:', error);\n",
              "      }\n",
              "      quickchartButtonEl.classList.remove('colab-df-spinner');\n",
              "      quickchartButtonEl.classList.add('colab-df-quickchart-complete');\n",
              "    }\n",
              "    (() => {\n",
              "      let quickchartButtonEl =\n",
              "        document.querySelector('#df-ea960eb9-d9ce-4754-a526-0387dab2ff09 button');\n",
              "      quickchartButtonEl.style.display =\n",
              "        google.colab.kernel.accessAllowed ? 'block' : 'none';\n",
              "    })();\n",
              "  </script>\n",
              "</div>\n",
              "\n",
              "    </div>\n",
              "  </div>\n"
            ],
            "application/vnd.google.colaboratory.intrinsic+json": {
              "type": "dataframe",
              "summary": "{\n  \"name\": \"df\",\n  \"rows\": 5,\n  \"fields\": [\n    {\n      \"column\": \"text\",\n      \"properties\": {\n        \"dtype\": \"string\",\n        \"num_unique_values\": 5,\n        \"samples\": [\n          \"i constantly worry about their fight against nature as they push the limits of their inner bodies for the determination of their outer existence but i somehow feel reassured\",\n          \"i feel like i just wanna buy any cute make up i see online or even the one\",\n          \"i feel its important to share this info for those that experience the same thing\"\n        ],\n        \"semantic_type\": \"\",\n        \"description\": \"\"\n      }\n    },\n    {\n      \"column\": \"label\",\n      \"properties\": {\n        \"dtype\": \"category\",\n        \"num_unique_values\": 2,\n        \"samples\": [\n          \"joy\",\n          \"sadness\"\n        ],\n        \"semantic_type\": \"\",\n        \"description\": \"\"\n      }\n    }\n  ]\n}"
            }
          },
          "metadata": {},
          "execution_count": 9
        }
      ],
      "source": [
        "df.tail()"
      ]
    },
    {
      "cell_type": "code",
      "execution_count": null,
      "metadata": {
        "colab": {
          "base_uri": "https://localhost:8080/"
        },
        "id": "xSd4SMr_eDWz",
        "outputId": "574887c5-7ec7-4c83-a1ea-36fcd167bbb4"
      },
      "outputs": [
        {
          "output_type": "execute_result",
          "data": {
            "text/plain": [
              "(18000, 2)"
            ]
          },
          "metadata": {},
          "execution_count": 10
        }
      ],
      "source": [
        "df.shape"
      ]
    },
    {
      "cell_type": "code",
      "execution_count": null,
      "metadata": {
        "colab": {
          "base_uri": "https://localhost:8080/",
          "height": 206
        },
        "id": "hy_Xkh0SeDmG",
        "outputId": "92996549-8acd-4f85-824f-9b54a4303a92"
      },
      "outputs": [
        {
          "output_type": "execute_result",
          "data": {
            "text/plain": [
              "                                                    text  label\n",
              "16077  i can really decode but im sorry i have to vom...  anger\n",
              "10247  i dont and i feel so god damn selfish for cont...  anger\n",
              "13273  i feel blessed beyond belief to live in a day ...    joy\n",
              "8937   i feel the carefree days of my youth doing the...    joy\n",
              "8954   i do feel respected and loved more and more at...    joy"
            ],
            "text/html": [
              "\n",
              "  <div id=\"df-13f6103d-8fd1-45b6-96f2-d1c4c78dcd34\" class=\"colab-df-container\">\n",
              "    <div>\n",
              "<style scoped>\n",
              "    .dataframe tbody tr th:only-of-type {\n",
              "        vertical-align: middle;\n",
              "    }\n",
              "\n",
              "    .dataframe tbody tr th {\n",
              "        vertical-align: top;\n",
              "    }\n",
              "\n",
              "    .dataframe thead th {\n",
              "        text-align: right;\n",
              "    }\n",
              "</style>\n",
              "<table border=\"1\" class=\"dataframe\">\n",
              "  <thead>\n",
              "    <tr style=\"text-align: right;\">\n",
              "      <th></th>\n",
              "      <th>text</th>\n",
              "      <th>label</th>\n",
              "    </tr>\n",
              "  </thead>\n",
              "  <tbody>\n",
              "    <tr>\n",
              "      <th>16077</th>\n",
              "      <td>i can really decode but im sorry i have to vom...</td>\n",
              "      <td>anger</td>\n",
              "    </tr>\n",
              "    <tr>\n",
              "      <th>10247</th>\n",
              "      <td>i dont and i feel so god damn selfish for cont...</td>\n",
              "      <td>anger</td>\n",
              "    </tr>\n",
              "    <tr>\n",
              "      <th>13273</th>\n",
              "      <td>i feel blessed beyond belief to live in a day ...</td>\n",
              "      <td>joy</td>\n",
              "    </tr>\n",
              "    <tr>\n",
              "      <th>8937</th>\n",
              "      <td>i feel the carefree days of my youth doing the...</td>\n",
              "      <td>joy</td>\n",
              "    </tr>\n",
              "    <tr>\n",
              "      <th>8954</th>\n",
              "      <td>i do feel respected and loved more and more at...</td>\n",
              "      <td>joy</td>\n",
              "    </tr>\n",
              "  </tbody>\n",
              "</table>\n",
              "</div>\n",
              "    <div class=\"colab-df-buttons\">\n",
              "\n",
              "  <div class=\"colab-df-container\">\n",
              "    <button class=\"colab-df-convert\" onclick=\"convertToInteractive('df-13f6103d-8fd1-45b6-96f2-d1c4c78dcd34')\"\n",
              "            title=\"Convert this dataframe to an interactive table.\"\n",
              "            style=\"display:none;\">\n",
              "\n",
              "  <svg xmlns=\"http://www.w3.org/2000/svg\" height=\"24px\" viewBox=\"0 -960 960 960\">\n",
              "    <path d=\"M120-120v-720h720v720H120Zm60-500h600v-160H180v160Zm220 220h160v-160H400v160Zm0 220h160v-160H400v160ZM180-400h160v-160H180v160Zm440 0h160v-160H620v160ZM180-180h160v-160H180v160Zm440 0h160v-160H620v160Z\"/>\n",
              "  </svg>\n",
              "    </button>\n",
              "\n",
              "  <style>\n",
              "    .colab-df-container {\n",
              "      display:flex;\n",
              "      gap: 12px;\n",
              "    }\n",
              "\n",
              "    .colab-df-convert {\n",
              "      background-color: #E8F0FE;\n",
              "      border: none;\n",
              "      border-radius: 50%;\n",
              "      cursor: pointer;\n",
              "      display: none;\n",
              "      fill: #1967D2;\n",
              "      height: 32px;\n",
              "      padding: 0 0 0 0;\n",
              "      width: 32px;\n",
              "    }\n",
              "\n",
              "    .colab-df-convert:hover {\n",
              "      background-color: #E2EBFA;\n",
              "      box-shadow: 0px 1px 2px rgba(60, 64, 67, 0.3), 0px 1px 3px 1px rgba(60, 64, 67, 0.15);\n",
              "      fill: #174EA6;\n",
              "    }\n",
              "\n",
              "    .colab-df-buttons div {\n",
              "      margin-bottom: 4px;\n",
              "    }\n",
              "\n",
              "    [theme=dark] .colab-df-convert {\n",
              "      background-color: #3B4455;\n",
              "      fill: #D2E3FC;\n",
              "    }\n",
              "\n",
              "    [theme=dark] .colab-df-convert:hover {\n",
              "      background-color: #434B5C;\n",
              "      box-shadow: 0px 1px 3px 1px rgba(0, 0, 0, 0.15);\n",
              "      filter: drop-shadow(0px 1px 2px rgba(0, 0, 0, 0.3));\n",
              "      fill: #FFFFFF;\n",
              "    }\n",
              "  </style>\n",
              "\n",
              "    <script>\n",
              "      const buttonEl =\n",
              "        document.querySelector('#df-13f6103d-8fd1-45b6-96f2-d1c4c78dcd34 button.colab-df-convert');\n",
              "      buttonEl.style.display =\n",
              "        google.colab.kernel.accessAllowed ? 'block' : 'none';\n",
              "\n",
              "      async function convertToInteractive(key) {\n",
              "        const element = document.querySelector('#df-13f6103d-8fd1-45b6-96f2-d1c4c78dcd34');\n",
              "        const dataTable =\n",
              "          await google.colab.kernel.invokeFunction('convertToInteractive',\n",
              "                                                    [key], {});\n",
              "        if (!dataTable) return;\n",
              "\n",
              "        const docLinkHtml = 'Like what you see? Visit the ' +\n",
              "          '<a target=\"_blank\" href=https://colab.research.google.com/notebooks/data_table.ipynb>data table notebook</a>'\n",
              "          + ' to learn more about interactive tables.';\n",
              "        element.innerHTML = '';\n",
              "        dataTable['output_type'] = 'display_data';\n",
              "        await google.colab.output.renderOutput(dataTable, element);\n",
              "        const docLink = document.createElement('div');\n",
              "        docLink.innerHTML = docLinkHtml;\n",
              "        element.appendChild(docLink);\n",
              "      }\n",
              "    </script>\n",
              "  </div>\n",
              "\n",
              "\n",
              "<div id=\"df-cfbdc072-69e0-4d0b-8ccf-f05675625eaa\">\n",
              "  <button class=\"colab-df-quickchart\" onclick=\"quickchart('df-cfbdc072-69e0-4d0b-8ccf-f05675625eaa')\"\n",
              "            title=\"Suggest charts\"\n",
              "            style=\"display:none;\">\n",
              "\n",
              "<svg xmlns=\"http://www.w3.org/2000/svg\" height=\"24px\"viewBox=\"0 0 24 24\"\n",
              "     width=\"24px\">\n",
              "    <g>\n",
              "        <path d=\"M19 3H5c-1.1 0-2 .9-2 2v14c0 1.1.9 2 2 2h14c1.1 0 2-.9 2-2V5c0-1.1-.9-2-2-2zM9 17H7v-7h2v7zm4 0h-2V7h2v10zm4 0h-2v-4h2v4z\"/>\n",
              "    </g>\n",
              "</svg>\n",
              "  </button>\n",
              "\n",
              "<style>\n",
              "  .colab-df-quickchart {\n",
              "      --bg-color: #E8F0FE;\n",
              "      --fill-color: #1967D2;\n",
              "      --hover-bg-color: #E2EBFA;\n",
              "      --hover-fill-color: #174EA6;\n",
              "      --disabled-fill-color: #AAA;\n",
              "      --disabled-bg-color: #DDD;\n",
              "  }\n",
              "\n",
              "  [theme=dark] .colab-df-quickchart {\n",
              "      --bg-color: #3B4455;\n",
              "      --fill-color: #D2E3FC;\n",
              "      --hover-bg-color: #434B5C;\n",
              "      --hover-fill-color: #FFFFFF;\n",
              "      --disabled-bg-color: #3B4455;\n",
              "      --disabled-fill-color: #666;\n",
              "  }\n",
              "\n",
              "  .colab-df-quickchart {\n",
              "    background-color: var(--bg-color);\n",
              "    border: none;\n",
              "    border-radius: 50%;\n",
              "    cursor: pointer;\n",
              "    display: none;\n",
              "    fill: var(--fill-color);\n",
              "    height: 32px;\n",
              "    padding: 0;\n",
              "    width: 32px;\n",
              "  }\n",
              "\n",
              "  .colab-df-quickchart:hover {\n",
              "    background-color: var(--hover-bg-color);\n",
              "    box-shadow: 0 1px 2px rgba(60, 64, 67, 0.3), 0 1px 3px 1px rgba(60, 64, 67, 0.15);\n",
              "    fill: var(--button-hover-fill-color);\n",
              "  }\n",
              "\n",
              "  .colab-df-quickchart-complete:disabled,\n",
              "  .colab-df-quickchart-complete:disabled:hover {\n",
              "    background-color: var(--disabled-bg-color);\n",
              "    fill: var(--disabled-fill-color);\n",
              "    box-shadow: none;\n",
              "  }\n",
              "\n",
              "  .colab-df-spinner {\n",
              "    border: 2px solid var(--fill-color);\n",
              "    border-color: transparent;\n",
              "    border-bottom-color: var(--fill-color);\n",
              "    animation:\n",
              "      spin 1s steps(1) infinite;\n",
              "  }\n",
              "\n",
              "  @keyframes spin {\n",
              "    0% {\n",
              "      border-color: transparent;\n",
              "      border-bottom-color: var(--fill-color);\n",
              "      border-left-color: var(--fill-color);\n",
              "    }\n",
              "    20% {\n",
              "      border-color: transparent;\n",
              "      border-left-color: var(--fill-color);\n",
              "      border-top-color: var(--fill-color);\n",
              "    }\n",
              "    30% {\n",
              "      border-color: transparent;\n",
              "      border-left-color: var(--fill-color);\n",
              "      border-top-color: var(--fill-color);\n",
              "      border-right-color: var(--fill-color);\n",
              "    }\n",
              "    40% {\n",
              "      border-color: transparent;\n",
              "      border-right-color: var(--fill-color);\n",
              "      border-top-color: var(--fill-color);\n",
              "    }\n",
              "    60% {\n",
              "      border-color: transparent;\n",
              "      border-right-color: var(--fill-color);\n",
              "    }\n",
              "    80% {\n",
              "      border-color: transparent;\n",
              "      border-right-color: var(--fill-color);\n",
              "      border-bottom-color: var(--fill-color);\n",
              "    }\n",
              "    90% {\n",
              "      border-color: transparent;\n",
              "      border-bottom-color: var(--fill-color);\n",
              "    }\n",
              "  }\n",
              "</style>\n",
              "\n",
              "  <script>\n",
              "    async function quickchart(key) {\n",
              "      const quickchartButtonEl =\n",
              "        document.querySelector('#' + key + ' button');\n",
              "      quickchartButtonEl.disabled = true;  // To prevent multiple clicks.\n",
              "      quickchartButtonEl.classList.add('colab-df-spinner');\n",
              "      try {\n",
              "        const charts = await google.colab.kernel.invokeFunction(\n",
              "            'suggestCharts', [key], {});\n",
              "      } catch (error) {\n",
              "        console.error('Error during call to suggestCharts:', error);\n",
              "      }\n",
              "      quickchartButtonEl.classList.remove('colab-df-spinner');\n",
              "      quickchartButtonEl.classList.add('colab-df-quickchart-complete');\n",
              "    }\n",
              "    (() => {\n",
              "      let quickchartButtonEl =\n",
              "        document.querySelector('#df-cfbdc072-69e0-4d0b-8ccf-f05675625eaa button');\n",
              "      quickchartButtonEl.style.display =\n",
              "        google.colab.kernel.accessAllowed ? 'block' : 'none';\n",
              "    })();\n",
              "  </script>\n",
              "</div>\n",
              "\n",
              "    </div>\n",
              "  </div>\n"
            ],
            "application/vnd.google.colaboratory.intrinsic+json": {
              "type": "dataframe",
              "summary": "{\n  \"name\": \"df\",\n  \"rows\": 5,\n  \"fields\": [\n    {\n      \"column\": \"text\",\n      \"properties\": {\n        \"dtype\": \"string\",\n        \"num_unique_values\": 5,\n        \"samples\": [\n          \"i dont and i feel so god damn selfish for continuing to hurt myself all the time\",\n          \"i do feel respected and loved more and more at school and within the community\",\n          \"i feel blessed beyond belief to live in a day amp age when this treatment is available also to have a husband thats footing a very expensive medical bill\"\n        ],\n        \"semantic_type\": \"\",\n        \"description\": \"\"\n      }\n    },\n    {\n      \"column\": \"label\",\n      \"properties\": {\n        \"dtype\": \"category\",\n        \"num_unique_values\": 2,\n        \"samples\": [\n          \"joy\",\n          \"anger\"\n        ],\n        \"semantic_type\": \"\",\n        \"description\": \"\"\n      }\n    }\n  ]\n}"
            }
          },
          "metadata": {},
          "execution_count": 11
        }
      ],
      "source": [
        "df.sample(5)"
      ]
    },
    {
      "cell_type": "code",
      "execution_count": null,
      "metadata": {
        "colab": {
          "base_uri": "https://localhost:8080/"
        },
        "id": "IqVXADsUeDzY",
        "outputId": "e931729c-3df9-4cb1-a98c-c8e6c3c909e9"
      },
      "outputs": [
        {
          "output_type": "execute_result",
          "data": {
            "text/plain": [
              "array(['sadness', 'anger', 'love', 'surprise', 'fear', 'joy'],\n",
              "      dtype=object)"
            ]
          },
          "metadata": {},
          "execution_count": 12
        }
      ],
      "source": [
        "df.label.unique()"
      ]
    },
    {
      "cell_type": "code",
      "execution_count": null,
      "metadata": {
        "colab": {
          "base_uri": "https://localhost:8080/"
        },
        "id": "P_JgdlQ7eEAe",
        "outputId": "2cc1b840-b3c5-45c6-c1ed-35a4d8f28cab"
      },
      "outputs": [
        {
          "output_type": "execute_result",
          "data": {
            "text/plain": [
              "label\n",
              "joy         6066\n",
              "sadness     5216\n",
              "anger       2434\n",
              "fear        2149\n",
              "love        1482\n",
              "surprise     653\n",
              "Name: count, dtype: int64"
            ]
          },
          "metadata": {},
          "execution_count": 13
        }
      ],
      "source": [
        "df.label.value_counts()"
      ]
    },
    {
      "cell_type": "code",
      "execution_count": null,
      "metadata": {
        "colab": {
          "base_uri": "https://localhost:8080/",
          "height": 509
        },
        "id": "iGya06qufA6D",
        "outputId": "f52920a7-0c22-4b63-f939-245db09379c6"
      },
      "outputs": [
        {
          "output_type": "execute_result",
          "data": {
            "text/plain": [
              "<Axes: xlabel='label'>"
            ]
          },
          "metadata": {},
          "execution_count": 14
        },
        {
          "output_type": "display_data",
          "data": {
            "text/plain": [
              "<Figure size 640x480 with 1 Axes>"
            ],
            "image/png": "[encoded data removed]"
          },
          "metadata": {}
        }
      ],
      "source": [
        "df.label.value_counts().plot.bar()"
      ]
    },
    {
      "cell_type": "code",
      "execution_count": null,
      "metadata": {
        "id": "c7zRLbsOfBJF"
      },
      "outputs": [],
      "source": [
        "#Positive Sentments= Joy, love, surprise =1\n",
        "#Negative Sentiments= sadness, anger, fear=0"
      ]
    },
    {
      "cell_type": "code",
      "execution_count": null,
      "metadata": {
        "id": "8rmeTm5vfBZG"
      },
      "outputs": [],
      "source": [
        "def custom_encoder(df):\n",
        "    df.replace(to_replace =\"surprise\", value =1, inplace=True)\n",
        "    df.replace(to_replace =\"love\", value =1, inplace=True)\n",
        "    df.replace(to_replace =\"joy\", value =1, inplace=True)\n",
        "    df.replace(to_replace =\"fear\", value =0, inplace=True)\n",
        "    df.replace(to_replace =\"anger\", value =0, inplace=True)\n",
        "    df.replace(to_replace =\"sadness\", value =0, inplace=True)"
      ]
    },
    {
      "cell_type": "code",
      "execution_count": null,
      "metadata": {
        "id": "Nv9VppASf1I6"
      },
      "outputs": [],
      "source": [
        "custom_encoder(df['label'])"
      ]
    },
    {
      "cell_type": "code",
      "execution_count": null,
      "metadata": {
        "colab": {
          "base_uri": "https://localhost:8080/",
          "height": 363
        },
        "id": "xWa9PODJf1Ps",
        "outputId": "79444a00-caf3-4b14-81fb-75cae0f3a8e8"
      },
      "outputs": [
        {
          "output_type": "execute_result",
          "data": {
            "text/plain": [
              "                                                text  label\n",
              "0                            i didnt feel humiliated      0\n",
              "1  i can go from feeling so hopeless to so damned...      0\n",
              "2   im grabbing a minute to post i feel greedy wrong      0\n",
              "3  i am ever feeling nostalgic about the fireplac...      1\n",
              "4                               i am feeling grouchy      0\n",
              "5  ive been feeling a little burdened lately wasn...      0\n",
              "6  ive been taking or milligrams or times recomme...      1\n",
              "7  i feel as confused about life as a teenager or...      0\n",
              "8  i have been with petronas for years i feel tha...      1\n",
              "9                                i feel romantic too      1"
            ],
            "text/html": [
              "\n",
              "  <div id=\"df-d37c4ef1-6eca-4020-bb06-ebaf406042d9\" class=\"colab-df-container\">\n",
              "    <div>\n",
              "<style scoped>\n",
              "    .dataframe tbody tr th:only-of-type {\n",
              "        vertical-align: middle;\n",
              "    }\n",
              "\n",
              "    .dataframe tbody tr th {\n",
              "        vertical-align: top;\n",
              "    }\n",
              "\n",
              "    .dataframe thead th {\n",
              "        text-align: right;\n",
              "    }\n",
              "</style>\n",
              "<table border=\"1\" class=\"dataframe\">\n",
              "  <thead>\n",
              "    <tr style=\"text-align: right;\">\n",
              "      <th></th>\n",
              "      <th>text</th>\n",
              "      <th>label</th>\n",
              "    </tr>\n",
              "  </thead>\n",
              "  <tbody>\n",
              "    <tr>\n",
              "      <th>0</th>\n",
              "      <td>i didnt feel humiliated</td>\n",
              "      <td>0</td>\n",
              "    </tr>\n",
              "    <tr>\n",
              "      <th>1</th>\n",
              "      <td>i can go from feeling so hopeless to so damned...</td>\n",
              "      <td>0</td>\n",
              "    </tr>\n",
              "    <tr>\n",
              "      <th>2</th>\n",
              "      <td>im grabbing a minute to post i feel greedy wrong</td>\n",
              "      <td>0</td>\n",
              "    </tr>\n",
              "    <tr>\n",
              "      <th>3</th>\n",
              "      <td>i am ever feeling nostalgic about the fireplac...</td>\n",
              "      <td>1</td>\n",
              "    </tr>\n",
              "    <tr>\n",
              "      <th>4</th>\n",
              "      <td>i am feeling grouchy</td>\n",
              "      <td>0</td>\n",
              "    </tr>\n",
              "    <tr>\n",
              "      <th>5</th>\n",
              "      <td>ive been feeling a little burdened lately wasn...</td>\n",
              "      <td>0</td>\n",
              "    </tr>\n",
              "    <tr>\n",
              "      <th>6</th>\n",
              "      <td>ive been taking or milligrams or times recomme...</td>\n",
              "      <td>1</td>\n",
              "    </tr>\n",
              "    <tr>\n",
              "      <th>7</th>\n",
              "      <td>i feel as confused about life as a teenager or...</td>\n",
              "      <td>0</td>\n",
              "    </tr>\n",
              "    <tr>\n",
              "      <th>8</th>\n",
              "      <td>i have been with petronas for years i feel tha...</td>\n",
              "      <td>1</td>\n",
              "    </tr>\n",
              "    <tr>\n",
              "      <th>9</th>\n",
              "      <td>i feel romantic too</td>\n",
              "      <td>1</td>\n",
              "    </tr>\n",
              "  </tbody>\n",
              "</table>\n",
              "</div>\n",
              "    <div class=\"colab-df-buttons\">\n",
              "\n",
              "  <div class=\"colab-df-container\">\n",
              "    <button class=\"colab-df-convert\" onclick=\"convertToInteractive('df-d37c4ef1-6eca-4020-bb06-ebaf406042d9')\"\n",
              "            title=\"Convert this dataframe to an interactive table.\"\n",
              "            style=\"display:none;\">\n",
              "\n",
              "  <svg xmlns=\"http://www.w3.org/2000/svg\" height=\"24px\" viewBox=\"0 -960 960 960\">\n",
              "    <path d=\"M120-120v-720h720v720H120Zm60-500h600v-160H180v160Zm220 220h160v-160H400v160Zm0 220h160v-160H400v160ZM180-400h160v-160H180v160Zm440 0h160v-160H620v160ZM180-180h160v-160H180v160Zm440 0h160v-160H620v160Z\"/>\n",
              "  </svg>\n",
              "    </button>\n",
              "\n",
              "  <style>\n",
              "    .colab-df-container {\n",
              "      display:flex;\n",
              "      gap: 12px;\n",
              "    }\n",
              "\n",
              "    .colab-df-convert {\n",
              "      background-color: #E8F0FE;\n",
              "      border: none;\n",
              "      border-radius: 50%;\n",
              "      cursor: pointer;\n",
              "      display: none;\n",
              "      fill: #1967D2;\n",
              "      height: 32px;\n",
              "      padding: 0 0 0 0;\n",
              "      width: 32px;\n",
              "    }\n",
              "\n",
              "    .colab-df-convert:hover {\n",
              "      background-color: #E2EBFA;\n",
              "      box-shadow: 0px 1px 2px rgba(60, 64, 67, 0.3), 0px 1px 3px 1px rgba(60, 64, 67, 0.15);\n",
              "      fill: #174EA6;\n",
              "    }\n",
              "\n",
              "    .colab-df-buttons div {\n",
              "      margin-bottom: 4px;\n",
              "    }\n",
              "\n",
              "    [theme=dark] .colab-df-convert {\n",
              "      background-color: #3B4455;\n",
              "      fill: #D2E3FC;\n",
              "    }\n",
              "\n",
              "    [theme=dark] .colab-df-convert:hover {\n",
              "      background-color: #434B5C;\n",
              "      box-shadow: 0px 1px 3px 1px rgba(0, 0, 0, 0.15);\n",
              "      filter: drop-shadow(0px 1px 2px rgba(0, 0, 0, 0.3));\n",
              "      fill: #FFFFFF;\n",
              "    }\n",
              "  </style>\n",
              "\n",
              "    <script>\n",
              "      const buttonEl =\n",
              "        document.querySelector('#df-d37c4ef1-6eca-4020-bb06-ebaf406042d9 button.colab-df-convert');\n",
              "      buttonEl.style.display =\n",
              "        google.colab.kernel.accessAllowed ? 'block' : 'none';\n",
              "\n",
              "      async function convertToInteractive(key) {\n",
              "        const element = document.querySelector('#df-d37c4ef1-6eca-4020-bb06-ebaf406042d9');\n",
              "        const dataTable =\n",
              "          await google.colab.kernel.invokeFunction('convertToInteractive',\n",
              "                                                    [key], {});\n",
              "        if (!dataTable) return;\n",
              "\n",
              "        const docLinkHtml = 'Like what you see? Visit the ' +\n",
              "          '<a target=\"_blank\" href=https://colab.research.google.com/notebooks/data_table.ipynb>data table notebook</a>'\n",
              "          + ' to learn more about interactive tables.';\n",
              "        element.innerHTML = '';\n",
              "        dataTable['output_type'] = 'display_data';\n",
              "        await google.colab.output.renderOutput(dataTable, element);\n",
              "        const docLink = document.createElement('div');\n",
              "        docLink.innerHTML = docLinkHtml;\n",
              "        element.appendChild(docLink);\n",
              "      }\n",
              "    </script>\n",
              "  </div>\n",
              "\n",
              "\n",
              "<div id=\"df-5ef33a68-c820-437e-8bb8-a864e55a8f9a\">\n",
              "  <button class=\"colab-df-quickchart\" onclick=\"quickchart('df-5ef33a68-c820-437e-8bb8-a864e55a8f9a')\"\n",
              "            title=\"Suggest charts\"\n",
              "            style=\"display:none;\">\n",
              "\n",
              "<svg xmlns=\"http://www.w3.org/2000/svg\" height=\"24px\"viewBox=\"0 0 24 24\"\n",
              "     width=\"24px\">\n",
              "    <g>\n",
              "        <path d=\"M19 3H5c-1.1 0-2 .9-2 2v14c0 1.1.9 2 2 2h14c1.1 0 2-.9 2-2V5c0-1.1-.9-2-2-2zM9 17H7v-7h2v7zm4 0h-2V7h2v10zm4 0h-2v-4h2v4z\"/>\n",
              "    </g>\n",
              "</svg>\n",
              "  </button>\n",
              "\n",
              "<style>\n",
              "  .colab-df-quickchart {\n",
              "      --bg-color: #E8F0FE;\n",
              "      --fill-color: #1967D2;\n",
              "      --hover-bg-color: #E2EBFA;\n",
              "      --hover-fill-color: #174EA6;\n",
              "      --disabled-fill-color: #AAA;\n",
              "      --disabled-bg-color: #DDD;\n",
              "  }\n",
              "\n",
              "  [theme=dark] .colab-df-quickchart {\n",
              "      --bg-color: #3B4455;\n",
              "      --fill-color: #D2E3FC;\n",
              "      --hover-bg-color: #434B5C;\n",
              "      --hover-fill-color: #FFFFFF;\n",
              "      --disabled-bg-color: #3B4455;\n",
              "      --disabled-fill-color: #666;\n",
              "  }\n",
              "\n",
              "  .colab-df-quickchart {\n",
              "    background-color: var(--bg-color);\n",
              "    border: none;\n",
              "    border-radius: 50%;\n",
              "    cursor: pointer;\n",
              "    display: none;\n",
              "    fill: var(--fill-color);\n",
              "    height: 32px;\n",
              "    padding: 0;\n",
              "    width: 32px;\n",
              "  }\n",
              "\n",
              "  .colab-df-quickchart:hover {\n",
              "    background-color: var(--hover-bg-color);\n",
              "    box-shadow: 0 1px 2px rgba(60, 64, 67, 0.3), 0 1px 3px 1px rgba(60, 64, 67, 0.15);\n",
              "    fill: var(--button-hover-fill-color);\n",
              "  }\n",
              "\n",
              "  .colab-df-quickchart-complete:disabled,\n",
              "  .colab-df-quickchart-complete:disabled:hover {\n",
              "    background-color: var(--disabled-bg-color);\n",
              "    fill: var(--disabled-fill-color);\n",
              "    box-shadow: none;\n",
              "  }\n",
              "\n",
              "  .colab-df-spinner {\n",
              "    border: 2px solid var(--fill-color);\n",
              "    border-color: transparent;\n",
              "    border-bottom-color: var(--fill-color);\n",
              "    animation:\n",
              "      spin 1s steps(1) infinite;\n",
              "  }\n",
              "\n",
              "  @keyframes spin {\n",
              "    0% {\n",
              "      border-color: transparent;\n",
              "      border-bottom-color: var(--fill-color);\n",
              "      border-left-color: var(--fill-color);\n",
              "    }\n",
              "    20% {\n",
              "      border-color: transparent;\n",
              "      border-left-color: var(--fill-color);\n",
              "      border-top-color: var(--fill-color);\n",
              "    }\n",
              "    30% {\n",
              "      border-color: transparent;\n",
              "      border-left-color: var(--fill-color);\n",
              "      border-top-color: var(--fill-color);\n",
              "      border-right-color: var(--fill-color);\n",
              "    }\n",
              "    40% {\n",
              "      border-color: transparent;\n",
              "      border-right-color: var(--fill-color);\n",
              "      border-top-color: var(--fill-color);\n",
              "    }\n",
              "    60% {\n",
              "      border-color: transparent;\n",
              "      border-right-color: var(--fill-color);\n",
              "    }\n",
              "    80% {\n",
              "      border-color: transparent;\n",
              "      border-right-color: var(--fill-color);\n",
              "      border-bottom-color: var(--fill-color);\n",
              "    }\n",
              "    90% {\n",
              "      border-color: transparent;\n",
              "      border-bottom-color: var(--fill-color);\n",
              "    }\n",
              "  }\n",
              "</style>\n",
              "\n",
              "  <script>\n",
              "    async function quickchart(key) {\n",
              "      const quickchartButtonEl =\n",
              "        document.querySelector('#' + key + ' button');\n",
              "      quickchartButtonEl.disabled = true;  // To prevent multiple clicks.\n",
              "      quickchartButtonEl.classList.add('colab-df-spinner');\n",
              "      try {\n",
              "        const charts = await google.colab.kernel.invokeFunction(\n",
              "            'suggestCharts', [key], {});\n",
              "      } catch (error) {\n",
              "        console.error('Error during call to suggestCharts:', error);\n",
              "      }\n",
              "      quickchartButtonEl.classList.remove('colab-df-spinner');\n",
              "      quickchartButtonEl.classList.add('colab-df-quickchart-complete');\n",
              "    }\n",
              "    (() => {\n",
              "      let quickchartButtonEl =\n",
              "        document.querySelector('#df-5ef33a68-c820-437e-8bb8-a864e55a8f9a button');\n",
              "      quickchartButtonEl.style.display =\n",
              "        google.colab.kernel.accessAllowed ? 'block' : 'none';\n",
              "    })();\n",
              "  </script>\n",
              "</div>\n",
              "\n",
              "    </div>\n",
              "  </div>\n"
            ],
            "application/vnd.google.colaboratory.intrinsic+json": {
              "type": "dataframe",
              "variable_name": "df",
              "summary": "{\n  \"name\": \"df\",\n  \"rows\": 18000,\n  \"fields\": [\n    {\n      \"column\": \"text\",\n      \"properties\": {\n        \"dtype\": \"string\",\n        \"num_unique_values\": 17962,\n        \"samples\": [\n          \"i like build quality and how the button layout changes according to the phone s function i also like that the haptic feedback really feels like the phone has buttons herrman is still convinced there aren t haptics\",\n          \"i wasnt so self conscious of my atrocious singing i think id be tempted to break out into this whenever a colleague is feeling defeated\",\n          \"i feel kind of lame this time around\"\n        ],\n        \"semantic_type\": \"\",\n        \"description\": \"\"\n      }\n    },\n    {\n      \"column\": \"label\",\n      \"properties\": {\n        \"dtype\": \"number\",\n        \"std\": 0,\n        \"min\": 0,\n        \"max\": 1,\n        \"num_unique_values\": 2,\n        \"samples\": [\n          1,\n          0\n        ],\n        \"semantic_type\": \"\",\n        \"description\": \"\"\n      }\n    }\n  ]\n}"
            }
          },
          "metadata": {},
          "execution_count": 17
        }
      ],
      "source": [
        "df.head(10)"
      ]
    },
    {
      "cell_type": "code",
      "execution_count": null,
      "metadata": {
        "colab": {
          "base_uri": "https://localhost:8080/"
        },
        "id": "C9n3BYDsf1WO",
        "outputId": "6edd4a33-47ea-4725-ac98-5c8c2a77604c"
      },
      "outputs": [
        {
          "output_type": "execute_result",
          "data": {
            "text/plain": [
              "label\n",
              "0    9799\n",
              "1    8201\n",
              "Name: count, dtype: int64"
            ]
          },
          "metadata": {},
          "execution_count": 18
        }
      ],
      "source": [
        "df.label.value_counts()"
      ]
    },
    {
      "cell_type": "code",
      "execution_count": null,
      "metadata": {
        "colab": {
          "base_uri": "https://localhost:8080/",
          "height": 461
        },
        "id": "ZtFhe8E-f1cT",
        "outputId": "88783b56-16ab-4a89-984c-b5570fab893d"
      },
      "outputs": [
        {
          "output_type": "execute_result",
          "data": {
            "text/plain": [
              "<Axes: xlabel='label'>"
            ]
          },
          "metadata": {},
          "execution_count": 19
        },
        {
          "output_type": "display_data",
          "data": {
            "text/plain": [
              "<Figure size 640x480 with 1 Axes>"
            ],
            "image/png": "[encoded data removed]"
          },
          "metadata": {}
        }
      ],
      "source": [
        "df.label.value_counts().plot.bar()"
      ]
    },
    {
      "cell_type": "code",
      "execution_count": null,
      "metadata": {
        "id": "4hOZzSx8f1id"
      },
      "outputs": [],
      "source": [
        "lm = WordNetLemmatizer()"
      ]
    },
    {
      "cell_type": "code",
      "execution_count": null,
      "metadata": {
        "id": "tvmoYH4ipIrV",
        "colab": {
          "base_uri": "https://localhost:8080/"
        },
        "collapsed": true,
        "outputId": "74b4a294-52f3-49fc-bd08-982d395d263e"
      },
      "outputs": [
        {
          "output_type": "stream",
          "name": "stdout",
          "text": [
            "\u001b[31mERROR: Could not find a version that satisfies the requirement re (from versions: none)\u001b[0m\u001b[31m\n",
            "\u001b[0m\u001b[31mERROR: No matching distribution found for re\u001b[0m\u001b[31m\n",
            "\u001b[0m"
          ]
        }
      ],
      "source": [
        "!pip install re"
      ]
    },
    {
      "cell_type": "code",
      "execution_count": null,
      "metadata": {
        "id": "sJ7SFAMBpQm8"
      },
      "outputs": [],
      "source": [
        "import re"
      ]
    },
    {
      "cell_type": "code",
      "execution_count": null,
      "metadata": {
        "id": "BVNy0kpef1qW"
      },
      "outputs": [],
      "source": [
        "def transformation(df_col):\n",
        "    output = []\n",
        "    for i in df_col:\n",
        "        new_text = re.sub('[^a-zA-Z]',' ',str(i))\n",
        "        new_text = new_text.lower()\n",
        "        new_text = new_text.split()\n",
        "        new_text = [lm.lemmatize(j) for j in new_text if j not in set(stopwords.words('english'))]\n",
        "        output.append(' '.join(str(x) for x in new_text))\n",
        "    return output\n"
      ]
    },
    {
      "cell_type": "code",
      "execution_count": null,
      "metadata": {
        "id": "2ETJCCfVf1yw"
      },
      "outputs": [],
      "source": [
        "var = transformation(df.text)"
      ]
    },
    {
      "cell_type": "code",
      "execution_count": null,
      "metadata": {
        "colab": {
          "base_uri": "https://localhost:8080/"
        },
        "id": "4rtYkPfYopXR",
        "outputId": "92d15230-e486-4487-cdee-aaab68401b22"
      },
      "outputs": [
        {
          "output_type": "execute_result",
          "data": {
            "text/plain": [
              "['didnt feel humiliated',\n",
              " 'go feeling hopeless damned hopeful around someone care awake',\n",
              " 'im grabbing minute post feel greedy wrong',\n",
              " 'ever feeling nostalgic fireplace know still property',\n",
              " 'feeling grouchy',\n",
              " 'ive feeling little burdened lately wasnt sure',\n",
              " 'ive taking milligram time recommended amount ive fallen asleep lot faster also feel like funny',\n",
              " 'feel confused life teenager jaded year old man',\n",
              " 'petronas year feel petronas performed well made huge profit',\n",
              " 'feel romantic',\n",
              " 'feel like make suffering seeing mean something',\n",
              " 'feel running divine experience expect type spiritual encounter',\n",
              " 'think easiest time year feel dissatisfied',\n",
              " 'feel low energy thirsty',\n",
              " 'immense sympathy general point possible proto writer trying find time write corner life sign agent let alone publishing contract feel little precious',\n",
              " 'feel reassured anxiety side',\n",
              " 'didnt really feel embarrassed',\n",
              " 'feel pretty pathetic time',\n",
              " 'started feeling sentimental doll child began collection vintage barbie doll sixty',\n",
              " 'feel compromised skeptical value every unit work put',\n",
              " 'feel irritated rejected without anyone anything saying anything',\n",
              " 'feeling completely overwhelmed two strategy help feel grounded pour heart journal form letter god end list five thing grateful',\n",
              " 'feeling amused delighted',\n",
              " 'able help chai lifeline support encouragement great feeling glad able help',\n",
              " 'already feel like fucked though dont usually eat morning',\n",
              " 'still love wish best longer tolerate effect bm life fact turned bitter angry person always particularly kind people around feeling stressed',\n",
              " 'feel inhibited someone el kitchen like im painting someone el picture',\n",
              " 'become overwhelmed feel defeated',\n",
              " 'feel kinda appalled feel like need explain wide lenghth body measure etc pp',\n",
              " 'feel superior dead chicken grieving child',\n",
              " 'get giddy feeling elegant perfectly fitted pencil skirt',\n",
              " 'remember feeling acutely distressed day',\n",
              " 'seen heard read past couple day left feeling impressed company',\n",
              " 'climbed hill feeling frustrated id pretty much paced entirely wrong course factor never ever hampered made dent day',\n",
              " 'imagine real life scenario would emotionally connected enough someone feel totally accepted safe morally acceptable close prolonged physical contact sex expected subsequently',\n",
              " 'sure would make feel content anything',\n",
              " 'feeling need creative',\n",
              " 'however want know something someone causing feel le splendid self step away',\n",
              " 'feel bit rude writing elderly gentleman ask gift feel bit greedy christmas mild greed',\n",
              " 'need need someone need protected feel safe small find season word',\n",
              " 'plan share everyday life story traveling adventure inspiration handmade creation hope also feel inspired',\n",
              " 'already christmas tree got two feeling festive sure spurring get started book',\n",
              " 'ive worn little concealer day im feeling brave dont want pale perfect',\n",
              " 'feel strongly passionate jerk decides poke make fun u',\n",
              " 'feeling discouraged already robbing peter pay paul get cow year cant afford get cow way',\n",
              " 'feeling listless need new thing something different',\n",
              " 'lost special mind worry still sane wanted feel felt reading book know many time said sam special guarantee many time used paragraph tell special',\n",
              " 'let go sad feeling want accepted first home mine',\n",
              " 'boat trip denmark',\n",
              " 'stopped feeling cold began feeling hot',\n",
              " 'need feel dough make sure perfect',\n",
              " 'found feeling little discouraged morning',\n",
              " 'feel selfish spoiled',\n",
              " 'stymied little bit wrote feeling unsure might go somewhere story unintended',\n",
              " 'bag qaf look cryin jacynthe lookin good feelin gorgeous rupaul skin scissor sister valentine sun fed kayle daddy gerling awake unkind u',\n",
              " 'feel know basically like fake realm science fiction',\n",
              " 'hate living dad roof give excuse asshole he providing live think feel need make feel unwelcome possible ill leave',\n",
              " 'keep feeling pleasantly surprised supportiveness also ease new situation',\n",
              " 'feeling anymore vigorous sexual activity coming yes misspelt cumming day part begin fall',\n",
              " 'feel mom graceful warm loving smile rob time nurture heal',\n",
              " 'feel talk brother law extremely popular one think stiff',\n",
              " 'ate could feel gentle tingle throughout almost feeling healing taking place cellular level',\n",
              " 'feel like pressured young beautiful thin depending trend girl rejuvenated butt implant',\n",
              " 'began several time week feeling tortured hallucination moving people figure sound vibration',\n",
              " 'nearly finished week detox feel amazing',\n",
              " 'feel selfish read back former post never asked prayer others never considered may others deserve prayer answered',\n",
              " 'know pain parent feel enraged child becomes violent',\n",
              " 'roller coaster emotion supposed feeling something unpleasant coming',\n",
              " 'suppose truth need shared havent feeling faithful lately ive dwelled doubt uncertainty faith',\n",
              " 'feeling brave bought clearly makeup',\n",
              " 'feeling miserable c also proudest mum earth',\n",
              " 'figure family love u matter around anyone else feel embarrassed michelle go ballistic',\n",
              " 'necessarily think f bomb sex necessary story feel reassured see print journal',\n",
              " 'feel ovary aching talking like put',\n",
              " 'feel like much chris mostly took many picture unimportant stuff',\n",
              " 'im tired book ready finding given unsuitable image feeling blamed result sit well',\n",
              " 'successfully manage stretch mxm canvas feel achievement worthwhile usage money time use canvas future brief',\n",
              " 'think feeling one nay important thing',\n",
              " 'feel completely honored influence young talented fully alive beautiful girl woman',\n",
              " 'feel angered firey',\n",
              " 'feel like miserable piece garbage',\n",
              " 'feel like need make list leanne would appalled thought dont miss anything',\n",
              " 'drove dannika school feeling little bit rushed greeted turned corner',\n",
              " 'remember feeling hellip furious shooter',\n",
              " 'feel happy excited since learned many thing',\n",
              " 'feel show around show horse people trusting relaxed show horse safe quiet handled frequently',\n",
              " 'couple thing left make start december done feeling smug',\n",
              " 'think u could make feel realize everything ok',\n",
              " 'feel worthless time struggling finding work',\n",
              " 'able lay bed dark feel terrified least',\n",
              " 'ready meet mom airport feel ever supportive arm around',\n",
              " 'im feeling bitter today mood strange entire day guess',\n",
              " 'mum brother passed away involved car accident bringing present passed form five exam flying colour',\n",
              " 'letting go animosity towards anyone feel wronged',\n",
              " 'talk dog feel cannot understand word read emotion know supportive decided go home',\n",
              " 'feel like throwing away shitty piece shit paper',\n",
              " 'im starting feel wryly amused banal comedy error life turning',\n",
              " 'find every body beautiful want people feel vital body',\n",
              " 'hear owner feel victimized association association attorney property manager',\n",
              " 'say goodbye fam theyre sad cry feel like heartless bitch hey im pretty excited flying first time know also spend year another country',\n",
              " 'wont let child cry feel loving lily little going opportunity lasted short month',\n",
              " 'alba feel good im fitting',\n",
              " 'feel excited im feel like ton catching',\n",
              " 'also know good feel look back see honored word help start',\n",
              " 'mean really really hard work obtain high technical skill wushu feel kinda ashamed somehow motivated saw kid wushu performance whole heartedly despite tiredness',\n",
              " 'feel like thing getting little overwhelming spritz toner really help calm soothe',\n",
              " 'hope realize little effort required make person feel better situation whether family member college high school friend neighbor street even complete stranger',\n",
              " 'feeling festive today even going put tree soon finished catching week going ons coronation street',\n",
              " 'finding ill seriously',\n",
              " 'alright class combination feeling unsuccessful man handled stress late horrible week resulted almost cry finished grappling',\n",
              " 'feel rarely advance worthwhile cause always stick rule posting anything online wouldnt prepared say somebody face',\n",
              " 'feeling useful',\n",
              " 'feel like pain cannot imagine becoming passionate group idea causing pain',\n",
              " 'feel ugly inclined wear ratty jean sweatshirt beautiful dress though might still wear pair heel around house boost self esteem ever slightly definitely bother buy new pair',\n",
              " 'im feeling homesick yet im feeling alright',\n",
              " 'dance feel pretty',\n",
              " 'workout every morning feel fabulous',\n",
              " 'feel eye touch word eye know assuredly return love know shall vain',\n",
              " 'feeling fabulous friday morning started get awful cramp work',\n",
              " 'feel honoured able call friend share brotherhood',\n",
              " 'begun feel apprehensive thick black rain cloud stormed sky town',\n",
              " 'stated reason feel fearful feel unsafe',\n",
              " 'feel like getting shaken tsa quite yet pulled side creative croissant lunch',\n",
              " 'get group feel really awkward overcompensate talkative getting really quiet',\n",
              " 'excited finally meet companion companion time especially lonely lonely companion never disappoint companion put arm around make feel loved',\n",
              " 'feel pretty safe blog img src http',\n",
              " 'feel pretty eager get done fun plan quilting',\n",
              " 'feeling horny ask let go home',\n",
              " 'think poem put pressure feel uncomfortable sense feeling feel understanding understand loving able love',\n",
              " 'feel stranger strange land raising son place father ancestral home',\n",
              " 'left shower questioning feel gorgeous fantastic body confident movement effortlessly graceful',\n",
              " 'feel energetic bouncy happy go gym run around outside kid take pram long walk often three one day',\n",
              " 'still feeling strong',\n",
              " 'burst tear devastating release feeling thought seemed know rich also go space without dumping',\n",
              " 'wanted get pumpkin spice latte morning hot last thing wanted hot coffee maybe feeling little bitter',\n",
              " 'suppose feel badly bit skeptical pain last month shes hyperchondria exaggeration habit past though never openly questioned',\n",
              " 'clench corner bed feel assured',\n",
              " 'also feel like selfish grateful life amazing thing',\n",
              " 'called god seen god book figured god right name feeling utterly affirmed accepted without question',\n",
              " 'know perhaps girl office nice short hair perhaps feeling rebellious',\n",
              " 'feel miserable family type celebrates eid',\n",
              " 'might go get car wash feeling really generous car need',\n",
              " 'still feel sleep deprived almost sleeping night giving u',\n",
              " 'feel really violent right',\n",
              " 'bloging sitting feeling content dog amp cat etc know lucky truth',\n",
              " 'started feeling funny friday woke sick dog',\n",
              " 'feel need protect parent witch hunt repressed memory therapy',\n",
              " 'feel disgusted even associated woman race nationality',\n",
              " 'laughed bitterly wasnt feeling bitter',\n",
              " 'know feeling thought wished could u u knew however much hated first experience would remember forever',\n",
              " 'feeling quite mellow wanted soft easy look wear beginning cold',\n",
              " 'told maybe need time think ive feeling indecisive thing lately',\n",
              " 'still feel genre disservice story resolved artifically',\n",
              " 'always know feeling artistic write name artistic mood manitz draw circle dot bigger dot artistic feeling line like accent mark spanish im pissed',\n",
              " 'remember feeling really terrified brazil bus going steep mountain hill side mountain middle big storm wondering going fall',\n",
              " 'could feel whimper thought unloved uncared',\n",
              " 'im certainly going sit tell whats going personal life feel ever curious whats going life youd watch show',\n",
              " 'im sorry wasnt humor post im feeling funny',\n",
              " 'feel ive got foot door fantastic world walking running trail fell mountain',\n",
              " 'say whatever come mind tell directly feel jealous girl insecure love person trust worthy friend sweet one love',\n",
              " 'feel strange coming back work one day holiday',\n",
              " 'im clearly influenced dash happiness emily dickinson example use dash instead colon semi colon enhance feeling rushed enjambment sonnet',\n",
              " 'fatter thing life remain control whether get eat peanut butter bread get home impossible day first world looking yet third world feeling hell needy neglected little girl',\n",
              " 'could claim redeem genre leave feeling entirely frustrated point beating head wall either',\n",
              " 'feel sad hopeless',\n",
              " 'im getting feeling class little intimidated concept lit',\n",
              " 'still feel groggy get routine son',\n",
              " 'feeling view isnt going popular thats fine',\n",
              " 'want hold feeling shocked awe wonder forever',\n",
              " 'heard rumour st year exam result fear might one failure',\n",
              " 'want feel valued appreciated know people love arent going anywhere even nature relationship change',\n",
              " 'know day feel distracted',\n",
              " 'use regularly relaxing music always feel invigorated afterward',\n",
              " 'im feeling distracted tend practice eye shut much possible',\n",
              " 'feel like perfect w see youtube influence even know trend',\n",
              " 'specifically wanted tango feeling shy mak quite opposite hard get far enough away get good pic lol',\n",
              " 'also feel weird sleeping bed two slept',\n",
              " 'wish okay thinking earlier today here thing cooped amp restless made feel needy',\n",
              " 'ive lost weight could fit tiny skirt ive unable wear didnt feel confident',\n",
              " 'hope feel bit creative soon miss presence life blog',\n",
              " 'fan current president conservative made feel unwelcome',\n",
              " 'enclose verse could weigh much thinking feeling curious hear odd couple',\n",
              " 'begin feel complacent life',\n",
              " 'feel vulnerable alone',\n",
              " 'remember feeling inspired thinking fine example parenting',\n",
              " 'feel like always one getting punished stupid thing feel like chastised behaving',\n",
              " 'really feel life perfect right isnt much ask hope everything would stay',\n",
              " 'im simply feel contented',\n",
              " 'im saying cut everyone life feel important find comfort solitude meditation working project alone',\n",
              " 'think im stupid feeling nervous',\n",
              " 'feel honored',\n",
              " 'feeling act god work life amazing feeling',\n",
              " 'feel im like bird flying air carefree manner',\n",
              " 'revise reply mind make sure reply sound appropriate enough person receive reply feel offended',\n",
              " 'felt sad friend mine died felt something irrevocably gone away',\n",
              " 'died would alex matt feel regretful coming visit',\n",
              " 'feel educating family supporting educationg mama papa key',\n",
              " 'im sure lost feel like everyone hostile toward hate feeling',\n",
              " 'feel like boring sewing make since easy nothing else say fabric usage',\n",
              " 'always liked use original fragrance freshen lightly scent underwear drawer feel gorgeously glamorous girly',\n",
              " 'feel like talented young man feel talented work',\n",
              " 'feel curious thing around',\n",
              " 'feel reason apart others life im help become something push succeed successful happy',\n",
              " 'feel uncomfortable guess',\n",
              " 'feel pretty mellow far whatever healing wounding process may getting underway',\n",
              " 'wonder sometimes whether added antagonism misunderstanding many people towards u feel reluctant wholeheartedly support traditional armistice day remembrance',\n",
              " 'leg would feel shitty mile would come around like always',\n",
              " 'know unfair reaction run way explain feel shaken best come right',\n",
              " 'seriously feel blessed support home amazing',\n",
              " 'feel abused maligned mostly tired nervous feeling anticipating danger',\n",
              " 'feeling pretty restless right typing',\n",
              " 'know gosman touristy place go montauk area infrequent visitor area want head harbor feel gentle cawing seagull lapping water wood piling relaxing breeze coming water',\n",
              " 'admit hilarious e card seriously exactly feel stressed feel moment could start hy',\n",
              " 'wrote last year feeling dull inarticulate normal',\n",
              " 'id kick gear feel irritable motivation ever',\n",
              " 'feel child innocent feeling illustrating',\n",
              " 'satisfaction feeling longer supporting contributing looter driven consumerism made walking corpse america revered younger',\n",
              " 'start feel resentful',\n",
              " 'spend vacation obligation headache feeling like emotional blackmailed three place',\n",
              " 'feel herpes coming would surprised point make checkup clinic wednesday',\n",
              " 'feel fucked like everyday life',\n",
              " 'ive worked really hard year try make child class feel like valued',\n",
              " 'feeling disheartened word late',\n",
              " 'feel like bitchy time upon retrospect think trying shake',\n",
              " 'still second guess still terrible time making definitive decision certain truth know feel assured truth',\n",
              " 'feel like egg benedict something equally delicious',\n",
              " 'im feeling way trusting',\n",
              " 'im feeling inspired summery element favorite past time beach bummin',\n",
              " 'feel smiled love even gorgeous',\n",
              " 'continue define discover home mean amsterdam whenever feel pang blank sickness line missing cultural mindset american city life much different cultural mindset amsterdam',\n",
              " 'make arcade simple purpose try make feel absolutely comfortable physically emotionally practically absolutely',\n",
              " 'say feel sympathetic',\n",
              " 'feeling eager hopped tube ride eye london',\n",
              " 'go online see friend talking another one talking feel ignored feel unloved',\n",
              " 'monitoring say anything ever come across blog feel offended please dont stop',\n",
              " 'feel like weird cancer one time',\n",
              " 'want feel safe well maybe maybe there small chance feel joy dream come true',\n",
              " 'im feeling cranky',\n",
              " 'also think puzzling particular administrator singled praise ability get student read feel ssr time productive use class time',\n",
              " 'tried fill befriending people knew using didnt care needed feel accepted even complete loser',\n",
              " 'feel stressed always',\n",
              " 'remember feeling another cramp also ignored',\n",
              " 'hope feel mellow well fed well slept peace within external world',\n",
              " 'also learned take lot effort positive thinking break tear feeling exhausted guilty better mom',\n",
              " 'im feeling awful hung friend new baby day',\n",
              " 'feel relaxed fine',\n",
              " 'feel suffering really feel pain',\n",
              " 'go sleep feel giving precious time something else life',\n",
              " 'feel like neglecting beloved mom blog',\n",
              " 'shalt say co din feel thing wrote hw keen xxx',\n",
              " 'feel terrified like im edge precipice staring ahead',\n",
              " 'feel totally listless exam come gone whole five month front uni free time',\n",
              " 'feel furious right life advocate tell live die lobbying supporting politician sympathic view',\n",
              " 'feel abused way',\n",
              " 'im still paying attention feel distracted',\n",
              " 'started third block feeling hot cold tingly time knowing still five hour examination ahead idea would good',\n",
              " 'im hesitant make suggestion feel outcome would sincere',\n",
              " 'feel terribly fond majority precise time',\n",
              " 'feel gaining control damaged good aspect personal security',\n",
              " 'bombed first interview left second interview feeling pretty fan freaking tastic',\n",
              " 'think kind taken u long build good inventory sauce oil spice non perishable feel like chance making something delicious without specifically go buy every single item recipe',\n",
              " 'feel advise dad whose child soon become teenager cool pull kid high school pick smelly jalopy plant coming window',\n",
              " 'feel victimized drag country head sand traditionalist hesitate call conservative fear offending real honest god conservative still think world created year ago stuff like skeletal remains kind hoax',\n",
              " 'would feel lucky call material kit site mine beautifully curated',\n",
              " 'blood proved reason feeling lethargic rubbish low iron prescribed iron tablet',\n",
              " 'mind feel like mind dangerous life',\n",
              " 'feel like love everyone least compassionate toward others',\n",
              " 'feel punished neglecting',\n",
              " 'feel like doesnt capture beauty lovely polish',\n",
              " 'feel like lost main root feel le secure emotionally financially socially',\n",
              " 'feel like bite bullet every time think feel stressed im fully supported decision',\n",
              " 'know obnoxiously immature sounding verbal tic voice kind nasal always come across like sharpest tool shed especially feeling awkward knowing knowing know',\n",
              " 'id terrible nightmare feeling little disturbed',\n",
              " 'didnt want walk passed case customer feel disturbed',\n",
              " 'want sufferer able find hope battle help feel alone',\n",
              " 'feeling exceptionally reluctant go school tomorrow even though monday timetable pretty good',\n",
              " 'festive feel delicious wheeeeee great night',\n",
              " 'looking forward beaten feeling like disappointment husband emotional pain',\n",
              " 'im sick feeling crappy',\n",
              " 'feel like almost convinced going pattern',\n",
              " 'also wear im wearing dress make feel slutty feel like antique underwear obviously little bit edgy maybe little bit little bit',\n",
              " 'feel perverse pride self control managed stay ordered reach tempting human flesh close u',\n",
              " 'feel impatient easily annoyed outraged blatant defiance seems olivias prominent characteristic day',\n",
              " 'positively giddy kid left morning last official class year im feeling little sad',\n",
              " 'feel supportive also cant help feel jealous',\n",
              " 'mainly like text feel like much clever written word rather spoken',\n",
              " 'seriouly feel respected dont privacy ordered around',\n",
              " 'said word devotee feel relieved hear title deen bandhu fallen person become afraid title uplifter devotee consider true devotee hence unworthy benefit aspect personality',\n",
              " 'personality feel pain suffering',\n",
              " 'guess would feel like joseph walt trusting care mother finance six month died time want defend self god make quiet',\n",
              " 'warming starting feeling little lethargic',\n",
              " 'feel excelent sometimes there nothing especially since im really keen video game anymore watch bit anime movie there got life',\n",
              " 'wonder master feeling r wanting eager please master could much enjoy attention wrong desire return affection',\n",
              " 'im feeling little bit positive thing quite hard first saving eaten quickly cost didnt want become burden boyfriend weve come end im feeling brighter inspired thing come',\n",
              " 'im feeling rather sentimental right say feel lucky max mom',\n",
              " 'make show feel isolated crowd ill know wrong anti social feeling',\n",
              " 'ive learned turn emotion often find feeling completely blank mother cry continuously suicidalness',\n",
              " 'feel loyal style',\n",
              " 'understand may feel youd rather bit vulnerable homeless london precise way',\n",
              " 'finally stop feeling listless like waste space',\n",
              " 'know im feeling agitated side effect high dose',\n",
              " 'feel shift positive',\n",
              " 'feeling brave enough',\n",
              " 'fear thief',\n",
              " 'feel clever nov',\n",
              " 'always spend money mean feel dissatisfied exit store',\n",
              " 'im feeling really quite angry',\n",
              " 'feel kerry didnt supporting civil union gay equality',\n",
              " 'feel really ashamed',\n",
              " 'feel amazing people life',\n",
              " 'finally left feeling judged ridiculed intelligent',\n",
              " 'starting feel bit insulted stranger',\n",
              " 'many day feel hopeless today light end yellow brick road shining little brighter',\n",
              " 'actually feel sorrowful',\n",
              " 'see woman wearing boot feel envious want curse',\n",
              " 'feel feel tell together apologize make keep loving bit bit',\n",
              " 'go say feeling impressed youre naomi klein right',\n",
              " 'began feel sens dull cold black unconsciousness came',\n",
              " 'suspect feel le fond private',\n",
              " 'honoured young woman felt comfortable enough ask kind faux hawk thing going back must looked dykey enough feel safe talking',\n",
              " 'wonder cast caveman told perfect part feel insulted complimented',\n",
              " 'feel convinced plus many diverse price tag feel sure everyone come fund plot lighted relatively economically',\n",
              " 'feel empty baby isnt',\n",
              " 'stopped feeling exhausted href http provokingbeauty',\n",
              " 'im feeling font friendly',\n",
              " 'hand bead consciously breathing consciously working feel calm list thing accomplish afternoon',\n",
              " 'always feel intimidated people especially always compare people ever since young',\n",
              " 'made feel rotten',\n",
              " 'started feeling hostile checking hemorrhoid',\n",
              " 'love wearing new shoe feel glamourous get pair designer shoe love box trimming come',\n",
              " 'know largely fact feeling romantic sexual successfully hidden',\n",
              " 'love feeling something warmly hugging feeling precious small precious someone something',\n",
              " 'im feeling far mellow normal',\n",
              " 'became dismayed studied people wearing started feeling like though outfit gorgeous bought way',\n",
              " 'dont want wax draw anything need unibrow maybe get rid spare hair creeping toward eyelid im feeling brave',\n",
              " 'im feeling lucky width li style border px list style outside margin px px',\n",
              " 'recall high school feeling longing watched olympic runner feel st',\n",
              " 'woke feeling confident watched bodypump dvd gather coaching tip compulsory cue',\n",
              " 'didnt say strong feeling always make skeptical first',\n",
              " 'want talk limited time phone current arrangment feel hesitant bring',\n",
              " 'beginning feel there good chance might pas',\n",
              " 'feel like little control help sweet pea better know ahead',\n",
              " 'feel like receiving end violent attack',\n",
              " 'feel worthwhile document people familiar batch file',\n",
              " 'feeling especially thankful many small blessing life right',\n",
              " 'hoping weatherman right forecast stay home dont venture rain tomorrow feeling kind creative',\n",
              " 'feel like im edge microcosm one awkward moment missed party id outside',\n",
              " 'feel bit funny actually',\n",
              " 'learnt nothing else last two year best feel way trusting instinct',\n",
              " 'feeling also blossoming eager anxiety',\n",
              " 'feel burdened share',\n",
              " 'always want nemo side sleeping without feel weird even though doesnt happen often get',\n",
              " 'im feeling outfit heel gorgeous',\n",
              " 'feel confused',\n",
              " 'feel session useful gave tool need move forward life',\n",
              " 'feel selfish bringing loneliness child know parent newtown grieving lost baby',\n",
              " 'took away disappointed feeling paining gave heart heal lord one love never betrayed never lose loyalty even loyal',\n",
              " 'feel envious embarrassed',\n",
              " 'could feel frantic need need make',\n",
              " 'feeling overwhelmed responsibility teacher someone trusting precious gift honor',\n",
              " 'feel tranquil right great',\n",
              " 'feel frustrated new music new lyric clearly nothing',\n",
              " 'thought going talk try work thing shocked find steve decided wanted thing broke feeling unloved',\n",
              " 'wouldnt beared witness incredibly well spoken bouncer making emo kid feel completely unwelcome',\n",
              " 'tend stop breathing feeling stressed',\n",
              " 'smoker year quit week ago right finished book cant believe free feel knew quit terrified life without cigarette',\n",
              " 'go mailbox talk mailman grocery clerk etc matter small step limited risk complete total willingness experience whatever thought feeling sensation emerge important',\n",
              " 'already feeling frantic',\n",
              " 'feel like insecurity good thing first started writing pictured',\n",
              " 'feel complimented insulted',\n",
              " 'crave fall submission feel submissive least',\n",
              " 'feel tender fine',\n",
              " 'feel irritated pissed even like someone wake moment edge falling deep slumber',\n",
              " 'made work feeling little groggy',\n",
              " 'want love feel like sort hindrance thats keeping loving',\n",
              " 'feel fond ok second thought really sensitive spelled everything',\n",
              " 'ill get round quarter im feeling hopeful one',\n",
              " 'im starting feel unwelcome life people already tell',\n",
              " 'feel absolutely fantastic hope baby',\n",
              " 'watched snow fall accumulate conifer tree shoveling shirt sleeve feeling vigorous',\n",
              " 'feel bitter honkerblonked general',\n",
              " 'feeling father already convinced',\n",
              " 'love feel passionate living dream gotten taste feel like nothing stop',\n",
              " 'play rain squeal glee feeling mud squishing toe enjoy pretty much anything take place outdoors',\n",
              " 'feeling humorous put cold caller hold',\n",
              " 'busy stuff never blog thread make feel miserable',\n",
              " 'feel energized curious life god potential give something back society finding someone heart',\n",
              " 'feel privileged also lot work',\n",
              " 'im pretty happy little nauseated side feel thrilled',\n",
              " 'close eye hear pitiful wailing sound cry taste salty taste tear feel anger hurt saturating heart',\n",
              " 'bought virtually fat free thousand island feeling impressed hold large quantity substance leaf lettuce cucumber friend total sugar becomes burn fat',\n",
              " 'im sure folk virginia florida handful swing state agree feel put upon insulted constant barrage',\n",
              " 'feel like im putting innocent man death row',\n",
              " 'sure else help feel smart',\n",
              " 'begin feel every waking moment devoted work',\n",
              " 'feel thankful lesson learning',\n",
              " 'feel longing sadness see family child',\n",
              " 'feel distinctly called clermont focus little one seem naughty',\n",
              " 'hope feel glad gave many thing including memory cherish',\n",
              " 'feeling pretty worthless right',\n",
              " 'feel project clever useful enough figured would start sharing instructables wrote first one weekend',\n",
              " 'continued think along line probably would done dish anger got wed fight feeling completely abused',\n",
              " 'didnt feel especially nervous finland landed paris little unsure would ahead u thought st grade student janne suominen',\n",
              " 'feel envious kid certain moment',\n",
              " 'feeling like pretty crappy mom',\n",
              " 'im feeling pissed aac feeling kind miserable frustrated life whole week',\n",
              " 'im scared anymore im fine feel terrific surgery',\n",
              " 'still feel vulnerable around',\n",
              " 'honestly sure feel stunned',\n",
              " 'feel caring person attract caring people life',\n",
              " 'im left feeling quite embarrassed say nothing new',\n",
              " 'feel unwelcome place buti cant decide scared anything ok situation staying dead end situation afraid thing get worse',\n",
              " 'may may cried thanking making child feel special loved',\n",
              " 'really want go buy yardage art gallery play feel amazing',\n",
              " 'feel like shes losing sense self adapt think loyal',\n",
              " 'feel burdened several loved one miss big kid havent seen since friday',\n",
              " 'feel still really low abdomen',\n",
              " 'feel like welcomed tight knit family make sure feel alone ever',\n",
              " 'feel doubtful',\n",
              " 'usually use smaller lego however year student fine motor delay want student feel successful',\n",
              " 'get exercise feel like im something worthwhile meantime',\n",
              " 'feel like life rich fulfilling know people look way live feel misplaced pity',\n",
              " 'feel blessed amazed yes excited',\n",
              " 'feel hesitant talking',\n",
              " 'try get least minute day five day week though known skip workout feeling particularly lethargic lazy',\n",
              " 'feeling beaten sick utterly devoid hope ever life want',\n",
              " 'feel hesitant comment want add pileon seems clear involved learned past experience interested applying learning future project',\n",
              " 'feel quite passionate communion tremendous importance personally theologically',\n",
              " 'im feeling happy well',\n",
              " 'find much time think without feeling depressed actually able write imagine without feeling trapped like missing something near constant feeling city',\n",
              " 'got feeling brig sincere strong desire help others become successful financially also building strengthening relationship christianity',\n",
              " 'feel like ive fake feeling lot often would liked',\n",
              " 'feeling energetic decided going bike rest temple',\n",
              " 'im really like said understand way feel toni ight blamed excess merican dream seldom witnessed never er seen hah hah hah hah hah',\n",
              " 'happpy get good result field academic athletics',\n",
              " 'dont know want work always something make feel stressed anxious work whatever job may job require sort rule pressure',\n",
              " 'id pop chair feeling like something worthwhile',\n",
              " 'really hoping theyd get far enough ahead u could feel like navigating delighted punching second control headed onto trail wood',\n",
              " 'feel like normally would angry thats actually think could never beautiful size',\n",
              " 'wonder many people feel like perspective think sake without wanting turn result crappy work',\n",
              " 'feel indecisive whether feel book huckleberry finn censored',\n",
              " 'known like kamiki kun laugh nozomi feel unpleasant knot stomach must think fool nonchan',\n",
              " 'made choice start recognizing feeling unloved kick choose keep persistence level allowing old reaction shut',\n",
              " 'feel like im hated celebrated cant wait till day say made',\n",
              " 'still feel funny writing like maybe call spirit guide really observant cheerleader something',\n",
              " 'would rather feel nothing feel surprised find life depressing grey unrewarding',\n",
              " 'feel comfortable decision',\n",
              " 'get really sweaty episode stomach feel really funny like free falling',\n",
              " 'feeling overwhelmed lately',\n",
              " 'learnt much wonderful world beaubronz feel lovely tanning brand fit perfectly latest mantra stolen boudoir lash mother asma docrat',\n",
              " 'feel rebellious particularly like watching romcoms get feeling may pretty good writing',\n",
              " 'didnt feel welcomed first entered morris quickly changed left feeling happy',\n",
              " 'im contemplating feeling skeptical',\n",
              " 'ive become anxious recent time certainly feeling amongst people belief siege often disadvantaged looked considered way different faith make le worthy regard said',\n",
              " 'feel like care im bit heartless',\n",
              " 'hate chemo thought toxin washing every single cell making feel horrible make cringe',\n",
              " 'feel honoured hosted series talented',\n",
              " 'love feel threatened around little',\n",
              " 'feel reading allthingsbucks blog brought tear eye lump throat feeling worthwhile thing upset shouldnt write lame blog',\n",
              " 'feeling determined didnt take long start nomming naughty stuff',\n",
              " 'feel honored many wonderful artist display work public see',\n",
              " 'remember fully stressed fun feel could lively',\n",
              " 'feel dazed href http twitter',\n",
              " 'feel bitchy hurting',\n",
              " 'always feel like ive assaulted pic',\n",
              " 'im thankful everything seems working wrap week new job also feeling pretty lucky people life',\n",
              " 'feel incredibly isolated lonely',\n",
              " 'feel selfish talk anyone else thyroid want think dramatic whiny really hard understand yes someone look fine still feel terrible',\n",
              " 'blood test yesterday perhaps im feeling particularly fond right doctor needle inside time spent dizzy head non meat eating nineteen year old female',\n",
              " 'admit worried feeling isolated work cubicle pretty much unless someone need',\n",
              " 'im feeling like life fairly sweet',\n",
              " 'going clean slate unilaterally forgiving feel wronged someone love intentionally carelessness thereby time forget perceived insult abuse',\n",
              " 'feel like year teach get passionate job find love kid want try even harder',\n",
              " 'im one people bury feeling anger second giving sweet smile even pain anger',\n",
              " 'knew holy spirit work plus feel divine gooooood way like massage reassuring',\n",
              " 'feel though ive reached point career im highly respected',\n",
              " 'make light sometimes feel really awkward small group one one conversation',\n",
              " 'ive lot good day feel fabulous lot energy lately ive also bad day feel gigantic slow clumsy',\n",
              " 'also feel like google hated seo know',\n",
              " 'didnt get wink sleep night continued feeling fabulous next morning',\n",
              " 'feel like feel mistake time fucked sleep take',\n",
              " 'love sliding nice big throbbing cock feeling gorgeous body man',\n",
              " 'found novel position feeling bit uncertain stock market rally',\n",
              " 'feel like judging want seem like needy girl know',\n",
              " 'im definitely feeling festive',\n",
              " 'feel burdened presence',\n",
              " 'still feel little dazed sort disbelieving feeling oh god',\n",
              " 'feeling super excited week seem flying getting closer closer due date',\n",
              " 'turned page feel like way getting back irresponcible year carefree college',\n",
              " 'favourite choice book dvd u uk im feeling generous limit something like',\n",
              " 'feeling energetic alive happier long time',\n",
              " 'feel really pathetic confronted',\n",
              " 'feel dangerous game activity',\n",
              " 'feel world class player benzema mould would fantastic',\n",
              " 'feeling terribly burdened impending anxiety trying keep eye prize',\n",
              " 'feel could unpleasant layered love healing forgiveness expectation thing turn well',\n",
              " 'im feeling gloomy completed nothing though im supposed complete many thing',\n",
              " 'working amount would like feel like lifestyle change successful far',\n",
              " 'love porn industry feel satisfied fulfilled working say really bring big buck',\n",
              " 'overhear victory tune geek ringtone feel triumphant',\n",
              " 'love child literature author feel need dumb thing kid',\n",
              " 'soo quiet mixture sleeping well feeling bit isolated big group',\n",
              " 'feel greedy money hungry absolutely',\n",
              " 'feel fucked want shut',\n",
              " 'feel passionate certain topic love backing position actual knowledge fact instead relying solely opinion',\n",
              " 'feel like today way suffering exam day open book everytime went home',\n",
              " 'feel surprised make',\n",
              " 'woke morning hike feeling jubilant',\n",
              " 'feel like little kid whose mom proud touched soccer ball game',\n",
              " 'feel miserable inside outside like',\n",
              " 'must find way accept limitation older without feeling held back resentful',\n",
              " 'feel incredibly charmed people life exciting amazing chapter thing',\n",
              " 'feel wronged judge people make time however also found actually life need responsible action people around u',\n",
              " 'know feeling stem part accepted mainstream importantly community seek belongingness',\n",
              " 'really like special edition really feel special song',\n",
              " 'feel must blog constantly loyal fan baker thia sandwich scruncher course mini rex',\n",
              " 'im currently feeling way fucked mother tongue paper',\n",
              " 'feel innocent love',\n",
              " 'feel like sweet carby yet low glycemic meal breakfast often dessert',\n",
              " 'feel safe encoding utf locale en isprivate false ismobile false mobileclass isprivateblog false languagedirection ltr feedlinks link rel alternate type application atom xml title could use standing ovation could',\n",
              " 'really lose lot nesting homemaking instinct desire pregnant longer im pregnant worse get though get month reprieve feel creative around six month mark youll notice post halloween',\n",
              " 'feel opportunity return moz god gracious gracious way giving heat desire despite self doubt uncertainty past',\n",
              " 'feel really lucky found resource always felt answer needed asking',\n",
              " 'keep running hill fitness wise feel fine along foot calf starting hurt also begin tire',\n",
              " 'always sensitive every sense feel like assaulted drag away darkness',\n",
              " 'supposed ought feel thankful adding sarcastic edge age',\n",
              " 'couldnt help feel totally distraught utterly helpless lorena kidnapped tortured almost death band enemy desperate freedom',\n",
              " 'feel unfortunate mister magnum sound cheer travelling well long period race',\n",
              " 'feel tortured tragic enough without importance sparkle',\n",
              " 'feel selfish thinking way feel lonely time',\n",
              " 'feel drained energy',\n",
              " 'think day chatted mom amp also feeling horny masturbate',\n",
              " 'feeling pretty stinkin shitty horrible reviewer',\n",
              " 'feel helpless',\n",
              " 'feeling awful sunday',\n",
              " 'dont know started feel weird pressure largely silent audience falsely inflated sense importance expressing ever articulate opinion said audience',\n",
              " 'woke nap feel extremely agitated grumpy',\n",
              " 'ive studying really hard discovering pretty word never crossed mind portray exact meaning feel like ive missed lot',\n",
              " 'feel lonely work im social bird usually school',\n",
              " 'love comment feel free post one',\n",
              " 'feel intimidated great woman family tree',\n",
              " 'truly feel lot positive thing help condition worker family kid',\n",
              " 'think may reason would want fly back uae oblivious conflict plague conflict feel helpless resolving',\n",
              " 'saw video cena kissing maria surprisingly didnt feel like hated',\n",
              " 'feel like rather unkind',\n",
              " 'feeling submissive',\n",
              " 'feel bit obnoxious definately weather',\n",
              " 'say pressing torso siwons bringing face close enough feel siwons agitated breath',\n",
              " 'indifferent tell feeling word treasured ever since feeling start bloom one moment want keep',\n",
              " 'feel he casual entire future',\n",
              " 'still feeling strong missed couple lift',\n",
              " 'sat couch several hour feeling pretty low',\n",
              " 'checked long time ago say happy way back feeling contented everyone everything around',\n",
              " 'write something big happened like fun trip milestone time write tell im feeling sweet baby snuggle growing personality',\n",
              " 'hate expectation must need man life feel worthwhile valued',\n",
              " 'feel loving kindness allow u think feel conscious interact various thing body mind',\n",
              " 'feel completely blessed part group',\n",
              " 'im type doesnt use moisturizer skin oily product designed contain ton moisturizing ingredient make skin feel lovely without oil',\n",
              " 'im afraid im environment make feel relaxed cause',\n",
              " 'feeling overwhelmed want physically shake everything way would spider shirt',\n",
              " 'say little piece feel agitated watch discussion race style color font family georgia serif font size px line height',\n",
              " 'feel cant touch said love bit much wont deny broke heart cant find crush dont come back home',\n",
              " 'feel little frustrated ache longing settled heart weariness life slipped around shoulder like unwelcome friend',\n",
              " 'even remember trying last year feeling crappy nowhere near closing',\n",
              " 'broke uncle radio player accidentally feared going cut going house well playing',\n",
              " 'feeling conflicted whether follower christ celebrate ever popular pagan originated modern day holiday',\n",
              " 'feeling impatient took pill',\n",
              " 'feel carefree weightless yet worried grounded time',\n",
              " 'feel sincere repentant past opposition civil right',\n",
              " 'one point put son daycare mom constantly made feel like terrible parent',\n",
              " 'thing list feel super guilty relax',\n",
              " 'feel uncertain motif feel inbalance committment process counselling reconciliation',\n",
              " 'feel like really valuable',\n",
              " 'feel like go emotion angry',\n",
              " 'ive much training grammar language reading something written like kind feel like im assaulted',\n",
              " 'feeling insulted everyone comparing sneha',\n",
              " 'still wake every morning feeling blessed unable believe im lucky enough able call amazing family mine life',\n",
              " 'feel leader country depict people country love god hope one thought way supportive like george w',\n",
              " 'feeling really horny afternoon one fulfill sexual desire bed creative thought help forgetting hands aahhh work like magic',\n",
              " 'know scone must food determined live frugal lifestyle without feeling deprived',\n",
              " 'giggle nervously feel threatened',\n",
              " 'feel horrible helplessness make thing better feel like kill inside',\n",
              " 'taking picture house feel far messy post photo online ill clean bit post',\n",
              " 'feel hated loathed',\n",
              " 'picked feeling little apprehensive',\n",
              " 'ive feeling numb',\n",
              " 'im feeling every bit spiteful vindictive bitch time',\n",
              " 'got feeling look eye sincere',\n",
              " 'feel assured mind one',\n",
              " 'feel unfortunate dont soundtrack',\n",
              " 'believe feel nervous father reassures nothing nervous make nervous',\n",
              " 'feel uptight day complete he around feel right little nervs dream date thing pursue wedding always dream mine day min',\n",
              " 'think would come fast would come suppose feel cranky today',\n",
              " 'feeling im going stubborn',\n",
              " 'feel lonely lost',\n",
              " 'would feel empty',\n",
              " 'start feel agitated lacking patience right cranky',\n",
              " 'know easy twist thing create explanation im still sure one help feel little le mad',\n",
              " 'feeling rich yup know blessed',\n",
              " 'didnt tell didnt want feel afraid',\n",
              " 'love medium coverage sometime feel put ugly picture',\n",
              " 'feel though little neglectful fellow blogger',\n",
              " 'sort hate glass make eye look small since huge eye going quite upset im hoping bigger frame make feel le paranoid',\n",
              " 'cant believe moment feel useful im washing dish',\n",
              " 'feel distressed music mind rewrite fma op',\n",
              " 'im feeling quite lonely monday half term',\n",
              " 'feel really socially awkward dont like get meet new people thing group adventurous',\n",
              " 'admire athleticism feel like would entertained got watch severely shape people participate olympic event',\n",
              " 'feel horrible feel horrible made worse fact havent gotten workout',\n",
              " 'would hate bit imagine secretary feeling irritable day eh',\n",
              " 'feel im unhappy',\n",
              " 'feel like take time care flower wonderfully loyal hive',\n",
              " 'remember feeling amazed',\n",
              " 'know never see place would break heart thick layer moss encased thick shell muffling sharper feeling pleasant painful',\n",
              " 'nameless mid bottom law school graduate find marginally attached awash sea overeducated underpaid indentured peer feel duped promise better life debt modern chemistry',\n",
              " 'truly feel contribute blog world especially regard educating writer valuable',\n",
              " 'feel like would clever get ton thing time',\n",
              " 'know shes right feel energetic awake patient happy im running daily still feel little bad believe breast milk much better baby formula',\n",
              " 'quickly trotted added feel embarrassed ask hoping would enter kind conversation',\n",
              " 'hated got drunk whole next day spent sleeping feeling groggy',\n",
              " 'love discussion class feel passionate feminist issue go write feel though faking',\n",
              " 'would want welcome home end feeling mommyhood threatened inability breastfeed baby',\n",
              " 'feel agitated result pleasant opposite calm peaceful',\n",
              " 'feel honored student come class',\n",
              " 'often tell want attention especially feel horny want good sex hour',\n",
              " 'get anxious feeling feel xox soon itll real thing already need flawless',\n",
              " 'feel rich blessed joyful',\n",
              " 'horrible anxiety dream every night last week made feel really paranoid course reading conspiracy theory unsolved crime online didnt hugely help matter',\n",
              " 'truly feel somehow enough hate get mad',\n",
              " 'remember feeling uncertain young especially became teenager',\n",
              " 'feel cant get far enough away feed melancholy long enough would wither die',\n",
              " 'want enter defiance coming different culture feel offended allowed',\n",
              " 'feeling rebellious ate',\n",
              " 'feel agitated restless edge quite often',\n",
              " 'feel uncomfortable using word awesome idea actually',\n",
              " 'im feeling rather pleased tonight',\n",
              " 'feel like lead gentle kind',\n",
              " 'feel like actively hated every single second rather borne',\n",
              " 'im feeling indecisive scare',\n",
              " 'feel violent tug eye socket',\n",
              " 'feel carefree nowwwwww',\n",
              " 'believe displayed deep emotional yearning semblance normality peace since appears dancing arab feel threatened fully armed soldier',\n",
              " 'left feeling discouraged hopeless',\n",
              " 'feel going get messy get fixed back road',\n",
              " 'feel frustrated easier day remember blessing research learning trial error hard success patience give far better garden long run',\n",
              " 'sick cold amp feeling well wondering would even able patience go whitleys month photo shoot',\n",
              " 'tempted feel little bitter saw',\n",
              " 'feel kind insecure anyways back doha',\n",
              " 'grateful longer feel frantic urge fix emotional upset around',\n",
              " 'feel strange brew',\n",
              " 'feel quite strongly student punished due well badly faired compared completely unrelated group people',\n",
              " 'want job permanent feel like valued',\n",
              " 'care someone emotional spiritual intellectual progress point feel like exert progress important love',\n",
              " 'actually feel comfortable speaking others japanese feel pretty happy current progress',\n",
              " 'learned different thing like family plan arrangement even real pain feel loved one pass',\n",
              " 'feel least dating would vain',\n",
              " 'like keeping record life written form picture feel like even important baby',\n",
              " 'feel unhappy miserable wretched glum gloomy forelorn heartbroken',\n",
              " 'really feeling horribly irritable little bit depressed',\n",
              " 'feel honoured part series join wonderful talented lady celebration womanhood',\n",
              " 'feel confident team right four hour ago',\n",
              " 'simply said sorry got car got house feeling restless',\n",
              " 'ive feeling bit paranoid like really noticable im everyone see',\n",
              " 'feel fabulous birding weekend everyone',\n",
              " 'bus stop hear squeak baachan trolley feel little paranoid',\n",
              " 'im feeling rushed like planned certain thing summer longer',\n",
              " 'feel cold breeze',\n",
              " 'try breathe feel frustrated breathe calm desire',\n",
              " 'feel language warning pretty benign open suggestion improve',\n",
              " 'knew thing headed didnt really prepare heartbreak even would feel heart broke danielle military wife go thru losing husband trying protect country',\n",
              " 'suddenly feel lot smarter talented last night',\n",
              " 'get actually feel like everyone buy smell amazing',\n",
              " 'feel though cant bear motion quilting even though idea delighted day ago',\n",
              " 'feel heartless feeling bored believe love anymore',\n",
              " 'ended shoeless making feel even vulnerable slowing',\n",
              " 'highly critical dennis covingtons book article must admit say something merit discussion noted closing chapter feeling god dangerous business',\n",
              " 'refers course though cant help feeling somehow ironically retrospect loudons son kate mcgarrigle rather talented rufus wainwright',\n",
              " 'feel lonely day birthday',\n",
              " 'feel like captured sweet look',\n",
              " 'envisioned intended im feeling unsure whether got vision intention right',\n",
              " 'feel like need cute picture share',\n",
              " 'feeling low',\n",
              " 'feel really angry sometimes love god havent enough',\n",
              " 'feel sorry rafael bosch',\n",
              " 'hope certain people attend important thing life still come back blogging feel missed blogging',\n",
              " 'feel comfortable staying house feel relentless im asked something tired almost time bored without money',\n",
              " 'guess im feeling generous today decided offer fabulous deal popular print moment',\n",
              " 'begin feel unpleasant anime fandom general',\n",
              " 'feel tender disoriented',\n",
              " 'feeling really carefree today really carefree',\n",
              " 'feeling miserable sick hoping amount sleep getting havent much choice zero energy cold med vitamin lot fluid high hope feel better tomorrow',\n",
              " 'im feeling cranky horrible',\n",
              " 'im comfortable relationship wont feel slutty one person amount would single',\n",
              " 'feel troubled ongoing relocation front door',\n",
              " 'asked making feel fabulous said healthy family healthy live free country',\n",
              " 'woke feeling incredibly content amp optimistic today however woke terrible cold complete lack energy',\n",
              " 'im feeling combination terrified relieved',\n",
              " 'really feel wronged patient',\n",
              " 'feel gulam ali even talented many classical singer',\n",
              " 'go guy someone want genuine guy would treat right spend quality time make feel special',\n",
              " 'think feel passionate favorite workout gear love seeing people love need live without hoping share favorite comment',\n",
              " 'feel strange started sale',\n",
              " 'always notice even though fabulous hiding according rest world feel keenly greatly distressed',\n",
              " 'feel shaken guilty better mother shielding offspring health problem',\n",
              " 'feel like greedy little traitor looking looking among cover hey little snotface take',\n",
              " 'feel like rude as hole hookah',\n",
              " 'feel beloved reciprocated',\n",
              " 'feel heartbroken bryan',\n",
              " 'feel like fake everything',\n",
              " 'would feel differently believed leader perfectly truthful',\n",
              " 'cant help feel longing outside feel rain skin sticky tree droppings foot',\n",
              " 'made feel like fault control husband violent behavior even believed existed',\n",
              " 'feel like important reveal lesson youve learned tough time along one youve learned awesome time endeavoring build audience honesty authenticity',\n",
              " 'feel disgusted need act cute like action gwiyomi',\n",
              " 'said feel incredibly thankful whole',\n",
              " 'feel inspired eager press sun shine',\n",
              " 'im hoping walk thigh feeling friendly today',\n",
              " 'feeling nervous sure like anyone else would position',\n",
              " 'older might feel frightened spending time left alone',\n",
              " 'must say feel accepted something poisoned chalice',\n",
              " 'im introvert mean get energized alone preferably quiet place time crew galley lot people relatively small place talking leave feeling drained need dark room nothing whale noise',\n",
              " 'im feeling generous ill give story well',\n",
              " 'find scent pretty generic actually feel like bath amp bodywork didnt invest much time collection like created sweet paris decided throw together two predictable scent',\n",
              " 'like person become feel much carefree liberated time dont recognize',\n",
              " 'feel numb right thought feeling angry dont know dont feel anything sad happy angry dont know feel anymore',\n",
              " 'feel discontent life day',\n",
              " 'im starting buy whole everything happens reason bit god plan b c feel god love there way would torture woman like weve tortured dealing w fertility issue',\n",
              " 'feel truly impatient taking long',\n",
              " 'want say want feel come bitter angry',\n",
              " 'know feel like face irate customer',\n",
              " 'always people life gone way put trip make feel completely moronic worthy enough',\n",
              " 'im feeling fine',\n",
              " 'prep another sleepless night help feel ashamed feeling way',\n",
              " 'im feeling quite pleased week',\n",
              " 'still feel shaky worst hit area damage destruction complete',\n",
              " 'throw ocean feel would missed something career win oscar',\n",
              " 'feel privileged narrated erik prince autobiography civilian warrior inside story blackwater unsung hero war terror released monday nov th',\n",
              " 'im used feeling dependency neediness needy least wasnt prior recently',\n",
              " 'feeling hopeful looking forward',\n",
              " 'feel mccarthy place yet career really consistently humanize character balancing fact supposed funny',\n",
              " 'feel uncertain uneasy',\n",
              " 'feel comfortable around',\n",
              " 'feel privileged opportunity part',\n",
              " 'feel nervous going back america knowing expect transition like',\n",
              " 'started feel kind skeptical',\n",
              " 'love little boy sometimes feel inadequate parent',\n",
              " 'keep thing predominantly fix function arranged right create style applying twelve month previous ingredient feeling much perverse usual',\n",
              " 'havent worked today feel like im going feel ive stressed work life week bad',\n",
              " 'feel sad discouraged',\n",
              " 'thought well respected recognized mother autistic boy would perfect guest blogger message feel passionate',\n",
              " 'ive coursing cycle happiness feeling mellow feeling really depressed mellow back beginning',\n",
              " 'im feeling amazed california ness moment currently sitting pool drinking wine spritzer nagalene connecting via google wifi using stellarium figure star',\n",
              " 'probably go back washington permanently baby least although torn whether want yes bleu know feel still completely convinced',\n",
              " 'also feel strange sense guilt people arent similarly situated move different neighborhood',\n",
              " 'feeling hell casual favorite blue red heavy color casual table otherwise could see tournament deck red popular possibly blue step place one zendikar block rotates',\n",
              " 'im feeling agitated pour brandy coffee',\n",
              " 'feel way considering people pretending way sincere',\n",
              " 'feel give even period feel detail sharpe certainly good enough read cover cover',\n",
              " 'feel like reached plateau im buying much use feeling satisfied wardrobe personal style',\n",
              " 'learned hard way three hour feel like month friendly people stop talk',\n",
              " 'feel like amazed degree biology blown away',\n",
              " 'feel hear vibration gentle doesnt bother',\n",
              " 'feel unhappy incomplete',\n",
              " 'pretty certain use name middle name girl special feeling connection poppy lovely',\n",
              " 'feel something wonderful going happen',\n",
              " 'feel rejected unwanted',\n",
              " 'im getting since feel accepted mark beast shot thought going kill screamed loud didnt want die',\n",
              " 'try let ignorance get energy feel important sometimes ill engage little light debate try broaden view world',\n",
              " 'im feeling lousy may dismiss gorgeous day im feeling bright cheerful dreary day becomes tolerable',\n",
              " 'going assume moral obligation find way make sure feel pretty damn rich every day',\n",
              " 'thought would sweetly cover really feeling say something pleasant bad thing done whatever',\n",
              " 'ironic feel dont feel anything special still smile broadly whenever tell something',\n",
              " 'really like good moral nice respectful like feel like still belong brad couldnt picture eric he innocent',\n",
              " 'sense wat let feeling unsure',\n",
              " 'feeling apprehensive future moment',\n",
              " 'extremely good friend someone course feel reluctant extent favour someone',\n",
              " 'sleeping room woke middle night think could hear noise see shadow moving felt someone house',\n",
              " 'sometimes feel resentful come life time',\n",
              " 'began feeling amorous towards everyone stage towards people around experienced moment',\n",
              " 'sometimes feel disheartened realise far culture',\n",
              " 'im overwhelmed feeling blessed pray fear last time say happy birthday',\n",
              " 'feel popular also little pressure keep exactly need',\n",
              " 'feel hopeless control',\n",
              " 'feel horrible cancel one best guy friend trip stressing babysitting hour got cut afford',\n",
              " 'climbed mountain made way village people stared child looked frightened ran away everyone came across asked way make feel unwelcome',\n",
              " 'dont feel inhibited work problem',\n",
              " 'took chance kept cry hope might feel benevolent',\n",
              " 'done hope inspiring time looking solace people rather god proof maybe something good feel horrible',\n",
              " 'im feeling melancholy back school stuff today',\n",
              " 'begin doubt stomach clench heart race feel fearful',\n",
              " 'liked ro intimidated anna wealth anna feel guilt superior wealth enjoys',\n",
              " 'feel like really cranky school day',\n",
              " 'watch gather little block tuck belly like little red hen coo cuddle soft baby doll look interest baby help feel thrilled firstborn',\n",
              " 'feel like try stay faithful possible perceives real event happened mountain',\n",
              " 'walia feel suspicious tarun ban',\n",
              " 'feel like hostile toward others fail nice',\n",
              " 'feel glad little blog share danger see path ahead',\n",
              " 'wake feeling cranky sort',\n",
              " 'say feel like im tortured',\n",
              " 'cant help looking back child feeling rather jealous also delighted living time nine year old child part world read thousand book year wish able',\n",
              " 'im feeling bit cranky today',\n",
              " 'even dare say biggest stiller vaughn hater still could get enjoyment movie feel annoyed performance character',\n",
              " 'make punjabi lobia masala mostly winter feel protein punch spice rich recipe winter warmer one',\n",
              " 'truly terrifying still feel shaken uneasy',\n",
              " 'begin feel burdened thing amp long empty',\n",
              " 'write space feel quite nostalgic mind race back good old day used daily park learning memory',\n",
              " 'feel numb f',\n",
              " 'sit tonight pensive tense feeling little fearful',\n",
              " 'want someone know know thought feeling want keep loyal faithful reader',\n",
              " 'feel joy anticipation divine right',\n",
              " 'feeling overwhelmed asked bqff keep house theyre ready loaded dont feel behind',\n",
              " 'feel thrilled able investigate personal mythology around subject',\n",
              " 'feel creative right make happy',\n",
              " 'could wear casual shopping trip feel fabulous without even trying',\n",
              " 'want others happy mean step back yet feel like allow happy deserve even deserve',\n",
              " 'limiting reasonably without causing greater injury sort physical exercise start feel horrible',\n",
              " 'would always feel amazed impacted year old subject',\n",
              " 'feel lucky live portland land delicious food',\n",
              " 'feeling pretty cranky morning stopping really made feel lot better',\n",
              " 'didnt feel cold fire every night',\n",
              " 'im also feeling cranky main character scientist brother observing moon mention zero gravity',\n",
              " 'folk im feeling sociable',\n",
              " 'feel divine force strongly sometimes wonder agnostic atheist judeo christian fundamentalist feeling excitement heart',\n",
              " 'started feel discouraged thought one day',\n",
              " 'feel like maybe going stop loving maybe true im terrible wife',\n",
              " 'im already feeling sentimental time newborn wee sadly outgrown fave thrifted outfit',\n",
              " 'feel like ive innocent version one night stand',\n",
              " 'finish typing post realise ok longer feel annoyed angry even sad',\n",
              " 'refuse rate book publisher feel snobbish take say jeanette winterson cannot write essentially wish anything scope explore',\n",
              " 'feel petty even though thought arent real fleshed thought fluttering feel like kind thought',\n",
              " 'felt sad apprehensive angry vertigo left feeling uncertain',\n",
              " 'feel like ive got handle trusting instinct',\n",
              " 'feel complacent start thinking smart',\n",
              " 'admitted defeat asked half come back lake coz feel uptight already',\n",
              " 'feel journalist blamed',\n",
              " 'missed month combined class pretty much bed ridden month semester feel really amazed able pas',\n",
              " 'put leg around wrap arm feel safe',\n",
              " 'feel loyal lucy',\n",
              " 'feel like im pretty enough like personality boring obnoxious',\n",
              " 'relieved excited feel confident',\n",
              " 'im proud crafted something people care even enough click make feel wonderful',\n",
              " 'switched song one beginning make feel little melancholy fuck need',\n",
              " 'feel embarrassed talk time feel small moment like favor deserve given attention',\n",
              " 'sound entitled cant help feel disappointed even though already knew going',\n",
              " 'remember feeling husband felt would see people rude mom mom sweet self',\n",
              " 'feel clever',\n",
              " 'feeling remorseful breakfast took diet pill',\n",
              " 'feel though concept lifestyle change rather weight loss beaten death really something believe currently experiencing',\n",
              " 'know next step longer feel lost',\n",
              " 'feeling awful',\n",
              " 'believe imagining would like act live front audience make feel joyful',\n",
              " 'thought maybe hand feeling funny touched hair totally clean forearm became sticky',\n",
              " 'hate moment completely feel perfect people around love suddenly disappear',\n",
              " 'remember feeling little jealous realized time together wasnt solely larger network social interaction ready progress got',\n",
              " 'im known feel affectionate toward adore leonard cohen make like quite lot',\n",
              " 'feel really tranquil right',\n",
              " 'feel impatient yet fully sure searching',\n",
              " 'tearful feeling unloved even though know',\n",
              " 'feel like everything ive nothing sincere bother wanted hurt even told',\n",
              " 'feel like much write got distracted home wednesday evening challenge therefore lost train thought',\n",
              " 'starting feel little stressed',\n",
              " 'admit feeling bit intimidated challenge',\n",
              " 'think feeling vulnerable due stress buy new sewing machine printer',\n",
              " 'feel ashamed read yet',\n",
              " 'hear teenaged girl devastated pimple face morning prom feel devastated',\n",
              " 'woke beautiful sunday morning feeling restless miserable',\n",
              " 'feel unwelcome work sometimes think people might talking rel bookmark feel unwelcome work sometimes think people might talking april class url fn n href http www',\n",
              " 'dont need wear mask moment show feeling beloved without missgivings',\n",
              " 'turn head away even feel frightened',\n",
              " 'feel like go supermarket buy something totally delicious dinner money mother put account today',\n",
              " 'feel fine e terminando com eight day week um ano depois',\n",
              " 'feel uncertain project',\n",
              " 'feel vital full energy every day super positive',\n",
              " 'feel completely dissatisfied whole world human character inconsistent',\n",
              " 'mean would feel euan got hauled murder knew innocent',\n",
              " 'experimented lot experience mention sadly made realize woman feel career path somehow going determined partner support child ther co worker etc',\n",
              " 'knew high school pretty fuckin chill say girl feel insulted threatened blog wrote would like apologize offended sorry',\n",
              " 'feel talented impacting thing end moment',\n",
              " 'find feeling happy feel good',\n",
              " 'feel bit nostalgic wonder passion writing blog time week gone',\n",
              " 'im feeling particularly dangerous chocolate cookie',\n",
              " 'im feeling ok always hand sits close',\n",
              " 'im feeling quite mellow spite raging pm past day mean im likely erupt little warning',\n",
              " 'feel like innocent victim feel win',\n",
              " 'actually thought would feel bothered since ehb woman ow spent quite bit time together didnt feel much anything',\n",
              " 'feel sincere wanting resolve grievance',\n",
              " 'also attire regular moisturizer oil based primer yet point along skin color feel look tender great time day something thats normally attainable',\n",
              " 'feel apprehensive ride ahead',\n",
              " 'feel bothered',\n",
              " 'feel hint beloved art nouveau era bracelet',\n",
              " 'mostly take stair occasionally feeling particularly lethargic number consecutive late night bow ease convenience',\n",
              " 'feel insecure unsafe',\n",
              " 'feel sort pathetic saying iphone internet tv must have let honest',\n",
              " 'guess understand concern help feel little rejected',\n",
              " 'laced shoe pounded feeling hot black pavement',\n",
              " 'male stupid first woman cry baby get feel really cool putting stupid men place',\n",
              " 'think favorite activity child often telling someone feeling little unsure life direction going back childhood favorite past time hold many rich clue',\n",
              " 'took son joined elihu christmastime inside fine home lovely mill work darkly lit large stately christmas tree living room feeling gentle one long lost friend meeting first time adult people',\n",
              " 'praying everyday feel convinced god called see',\n",
              " 'love everything learning feel really passionate design',\n",
              " 'feel brain damaged getting worst dis moment',\n",
              " 'im feeling terribly adventurous plus family visiting cant completely neglect meaning going business usual',\n",
              " 'funeral friend killed car accident age',\n",
              " 'feel fearful near',\n",
              " 'wondering feeling ecstatic',\n",
              " 'people really dont many proplems talking feel said love bitched last month vain',\n",
              " 'think writing really expressed intensity emotion one would feel losing beloved spouse',\n",
              " 'cant imagine agony folk feel waiting news sentimental thing',\n",
              " 'feel make even caring',\n",
              " 'feel messy',\n",
              " 'feel lethargic uninspired next morning go',\n",
              " 'feel insulted',\n",
              " 'feel need little romantic boost relationship',\n",
              " 'close friend intimate bodily relationship girlfriend started avoid didnt want talk',\n",
              " 'use elevated lexicon feel intelligent',\n",
              " 'feel wronged world',\n",
              " 'feel lethargic lazy completely uncomposed dressed something like',\n",
              " 'feel director editor missed teachable moment tiphany make comment nice feel like everyone else',\n",
              " 'write anything feel passionate least genuinely interest',\n",
              " 'working hard shake feeling popular genre novel non literary fiction make book le legitimate le something read enjoy analyze',\n",
              " 'feel agitated empty missing something',\n",
              " 'realized ignoring better heartbreaking feel helpless',\n",
              " 'still feel little dazed high alarming since hour',\n",
              " 'would feel joyful',\n",
              " 'feel like feed food touch love caring compassion',\n",
              " 'feel terribly ignored sweet email',\n",
              " 'feeling deeply offended big hurt feeling fact',\n",
              " 'feel overwhelmed rushed',\n",
              " 'feel romantic finally finish blog post',\n",
              " 'kinda steal joshua customer feel amused',\n",
              " 'feel thrilled presence eye feel belief peace sincerity',\n",
              " 'dontknow never feel way anyone else really cant without linus love never thought could ever love anyone went fucked relationship',\n",
              " 'feel successful make sense',\n",
              " 'im feeling low forgotten',\n",
              " 'feel like life practically perfect every way right every happy',\n",
              " 'feel like suffer produce something worthwhile',\n",
              " 'feeling creative see alternate version',\n",
              " 'feeling bit nostalgic today',\n",
              " 'feel like show change many country taken many country way making decision includes supporting increasing woman area life',\n",
              " 'feel like dirty trash bin street nobody really sought',\n",
              " 'make new friend process dont feel slutty lol',\n",
              " 'feel bit reluctant turn people',\n",
              " 'wake feel absolutely worthless',\n",
              " 'feel like look gorgeous curl instead making full transition ended getting extremely natural red lowlights bottom section hair',\n",
              " 'feel gonna start aching rainy season come next year',\n",
              " 'glad know reason recent lapse sanity still feel like want go violent rampage slightest inconvenience',\n",
              " 'one sit stare blank computer screen scratch head time drink couple pot coffee feel triumphant write first sentence first sentence usually consists poop joke',\n",
              " 'feel high ecstatic normal feel like thousand mile drop unhappy excruciating',\n",
              " 'read one horrific sitting made feel ashamed world live',\n",
              " 'could feel sweet spirit happy helping',\n",
              " 'really love eating fresh fig feel delicate look much prettier ugly dried fig',\n",
              " 'id feel better',\n",
              " 'watch hgtv feel like im talented',\n",
              " 'never feel brave want believe order brave make conscious choice whether want brave',\n",
              " 'feel like offended question',\n",
              " 'probably love handful friend always feel bit strange describing love',\n",
              " 'feel hated wanted ignored',\n",
              " 'express gene dominant voice feel rather wonderful really writer poet carefree crazy',\n",
              " 'wonder jealous feeling discontent covetousnes',\n",
              " 'feeling low lately feeling hopelessness disturbing making tired sick entire living kind life',\n",
              " 'put hand scar covered chest feel half heart beating oh beating feel sweet rhythm remind alone',\n",
              " 'guess im feeling little rebellious',\n",
              " 'feel resolved yet somehow depressed',\n",
              " 'feel tender',\n",
              " 'im feeling little stressed already',\n",
              " 'feel like acceptable favourite yet nowhere see terpene responsible flavour',\n",
              " 'feeling bit strange never felt ever really stop writing blog',\n",
              " 'href http feeling groggy',\n",
              " 'ive gained wieght really would like lose pound feel like ive finally gotten acceptable happy place',\n",
              " 'feel book explains thing well easy use',\n",
              " 'feel resigned brought docile',\n",
              " 'still feel alone cant give anything call feel breathing keeping awake feel beating',\n",
              " 'feel loving presence parent daily even though physically dead almost two decade',\n",
              " 'feel pretty jolly',\n",
              " 'read case son ignoring old helpless parent feel unhappy sad',\n",
              " 'feel humiliated body husband make advance towards reminds despite ra try take life still find sexually attractive beautiful',\n",
              " 'feel kind alone helpless',\n",
              " 'feel totally ignored excluded',\n",
              " 'im feeling seriously pissed something fantabulous utterly stupid',\n",
              " 'wish could say hey know died tomorrow wouldnt feel cheated life regretful didnt accomplish something',\n",
              " 'could look act like know lie feel smug know ness frankly way lazy',\n",
              " 'go home feel empty',\n",
              " 'something tell girl finally feel brave enough share news',\n",
              " 'feel defeated like lion prey',\n",
              " 'like like feeling liked',\n",
              " 'excited hope personal u wont feel like rushed',\n",
              " 'surround bible verse help transcend space feel safe secure',\n",
              " 'know feel awkwardly hesitant return melbourne',\n",
              " 'feel little le gloomy little optimistic little better prepared face life throw way',\n",
              " 'wont lie im little worried nervous feel inadequate job ill best thats heavenly father want',\n",
              " 'slough carapace crud enveloped past thirty odd hour feel invigorated finally ready face day',\n",
              " 'ive busy girl good type busy im feeling really happy thing right loving new start glasgow',\n",
              " 'mother kept leadingstrings',\n",
              " 'set mind wanting specific item needing specific event specific time find ill end spending want feel pressured constraint',\n",
              " 'written prayer journal morning meditating greatness lord psalm written closing may feel tender care today',\n",
              " 'depressed actually feeling inspired',\n",
              " 'feel like enough people age actually think pretty devastated come gone',\n",
              " 'get home laze around pajama feeling grouchy',\n",
              " 'feeling pretty homesick weekend',\n",
              " 'started feeling really optimistic driven paper coz gonna teach meaning way leader',\n",
              " ...]"
            ]
          },
          "metadata": {},
          "execution_count": 25
        }
      ],
      "source": [
        "var"
      ]
    },
    {
      "cell_type": "code",
      "execution_count": null,
      "metadata": {
        "id": "ocj64r_rt6zV"
      },
      "outputs": [],
      "source": [
        "#Bag of Words\n",
        "from sklearn.feature_extraction.text import CountVectorizer\n",
        "cv = CountVectorizer(ngram_range=(1,2))\n",
        "traindata = cv.fit_transform(var)\n",
        "X_train = traindata\n",
        "y_train = df.label"
      ]
    },
    {
      "cell_type": "code",
      "execution_count": null,
      "metadata": {
        "colab": {
          "base_uri": "https://localhost:8080/"
        },
        "id": "ZPTR8loOt7Ci",
        "outputId": "af95e048-d0df-4174-c759-34681920731a"
      },
      "outputs": [
        {
          "output_type": "execute_result",
          "data": {
            "text/plain": [
              "<18000x117594 sparse matrix of type '<class 'numpy.int64'>'\n",
              "\twith 311217 stored elements in Compressed Sparse Row format>"
            ]
          },
          "metadata": {},
          "execution_count": 27
        }
      ],
      "source": [
        "X_train"
      ]
    },
    {
      "cell_type": "code",
      "execution_count": null,
      "metadata": {
        "colab": {
          "base_uri": "https://localhost:8080/"
        },
        "id": "L3yvjQWdwvRX",
        "outputId": "d4eca2e6-d62f-4791-923f-8677e43ca349"
      },
      "outputs": [
        {
          "output_type": "stream",
          "name": "stdout",
          "text": [
            "Requirement already satisfied: scikit-learn in /usr/local/lib/python3.10/dist-packages (1.2.2)\n",
            "Requirement already satisfied: numpy>=1.17.3 in /usr/local/lib/python3.10/dist-packages (from scikit-learn) (1.25.2)\n",
            "Requirement already satisfied: scipy>=1.3.2 in /usr/local/lib/python3.10/dist-packages (from scikit-learn) (1.11.4)\n",
            "Requirement already satisfied: joblib>=1.1.1 in /usr/local/lib/python3.10/dist-packages (from scikit-learn) (1.4.2)\n",
            "Requirement already satisfied: threadpoolctl>=2.0.0 in /usr/local/lib/python3.10/dist-packages (from scikit-learn) (3.5.0)\n"
          ]
        }
      ],
      "source": [
        "!pip install scikit-learn\n",
        "import sklearn\n",
        "from sklearn.ensemble import RandomForestClassifier\n",
        "\n",
        "model = RandomForestClassifier()"
      ]
    },
    {
      "cell_type": "code",
      "execution_count": null,
      "metadata": {
        "id": "_y8QjLP9wvjE"
      },
      "outputs": [],
      "source": [
        "#Hyper Parameter Tuning\n",
        "\n",
        "parameters = {'max_features': ('auto','sqrt'),\n",
        "             'n_estimators': [500, 1000, 1500],\n",
        "             'max_depth': [5, 10, None],\n",
        "             'min_samples_split': [5,10,15],\n",
        "             'min_samples_leaf': [1,2,5,10],\n",
        "             'bootstrap': [True, False]}"
      ]
    },
    {
      "cell_type": "code",
      "execution_count": null,
      "metadata": {
        "colab": {
          "base_uri": "https://localhost:8080/"
        },
        "id": "WozliHxRxHmO",
        "outputId": "2d34f590-6af6-474b-f7fe-638c51f38f3a"
      },
      "outputs": [
        {
          "output_type": "execute_result",
          "data": {
            "text/plain": [
              "{'max_features': ('auto', 'sqrt'),\n",
              " 'n_estimators': [500, 1000, 1500],\n",
              " 'max_depth': [5, 10, None],\n",
              " 'min_samples_split': [5, 10, 15],\n",
              " 'min_samples_leaf': [1, 2, 5, 10],\n",
              " 'bootstrap': [True, False]}"
            ]
          },
          "metadata": {},
          "execution_count": 30
        }
      ],
      "source": [
        "parameters"
      ]
    },
    {
      "cell_type": "code",
      "execution_count": null,
      "metadata": {
        "id": "XPFq7pfq3pfn"
      },
      "outputs": [],
      "source": [
        "from sklearn.model_selection import RandomizedSearchCV\n",
        "from sklearn.ensemble import RandomForestClassifier\n",
        "from scipy.stats import randint"
      ]
    },
    {
      "cell_type": "code",
      "execution_count": null,
      "metadata": {
        "id": "trqSMWaR3qUj"
      },
      "outputs": [],
      "source": [
        "param_dist = {\n",
        "    'n_estimators': randint(10, 1000),\n",
        "    'max_features': ['auto', 'sqrt'],\n",
        "    'max_depth': randint(1, 100),\n",
        "    'min_samples_split': randint(2, 20),\n",
        "    'min_samples_leaf': randint(1, 20),\n",
        "    'bootstrap': [True, False]\n",
        "}"
      ]
    },
    {
      "cell_type": "code",
      "execution_count": null,
      "metadata": {
        "id": "swh2hp6r3qkx"
      },
      "outputs": [],
      "source": [
        "rf = RandomForestClassifier()\n"
      ]
    },
    {
      "cell_type": "code",
      "execution_count": null,
      "metadata": {
        "id": "7atnOKJ5wvzX",
        "colab": {
          "base_uri": "https://localhost:8080/",
          "height": 75
        },
        "outputId": "38dd93b9-a97e-4565-8ee8-cff30889d2a2"
      },
      "outputs": [
        {
          "output_type": "execute_result",
          "data": {
            "text/plain": [
              "RandomForestClassifier()"
            ],
            "text/html": [
              "<style>#sk-container-id-1 {color: black;background-color: white;}#sk-container-id-1 pre{padding: 0;}#sk-container-id-1 div.sk-toggleable {background-color: white;}#sk-container-id-1 label.sk-toggleable__label {cursor: pointer;display: block;width: 100%;margin-bottom: 0;padding: 0.3em;box-sizing: border-box;text-align: center;}#sk-container-id-1 label.sk-toggleable__label-arrow:before {content: \"▸\";float: left;margin-right: 0.25em;color: #696969;}#sk-container-id-1 label.sk-toggleable__label-arrow:hover:before {color: black;}#sk-container-id-1 div.sk-estimator:hover label.sk-toggleable__label-arrow:before {color: black;}#sk-container-id-1 div.sk-toggleable__content {max-height: 0;max-width: 0;overflow: hidden;text-align: left;background-color: #f0f8ff;}#sk-container-id-1 div.sk-toggleable__content pre {margin: 0.2em;color: black;border-radius: 0.25em;background-color: #f0f8ff;}#sk-container-id-1 input.sk-toggleable__control:checked~div.sk-toggleable__content {max-height: 200px;max-width: 100%;overflow: auto;}#sk-container-id-1 input.sk-toggleable__control:checked~label.sk-toggleable__label-arrow:before {content: \"▾\";}#sk-container-id-1 div.sk-estimator input.sk-toggleable__control:checked~label.sk-toggleable__label {background-color: #d4ebff;}#sk-container-id-1 div.sk-label input.sk-toggleable__control:checked~label.sk-toggleable__label {background-color: #d4ebff;}#sk-container-id-1 input.sk-hidden--visually {border: 0;clip: rect(1px 1px 1px 1px);clip: rect(1px, 1px, 1px, 1px);height: 1px;margin: -1px;overflow: hidden;padding: 0;position: absolute;width: 1px;}#sk-container-id-1 div.sk-estimator {font-family: monospace;background-color: #f0f8ff;border: 1px dotted black;border-radius: 0.25em;box-sizing: border-box;margin-bottom: 0.5em;}#sk-container-id-1 div.sk-estimator:hover {background-color: #d4ebff;}#sk-container-id-1 div.sk-parallel-item::after {content: \"\";width: 100%;border-bottom: 1px solid gray;flex-grow: 1;}#sk-container-id-1 div.sk-label:hover label.sk-toggleable__label {background-color: #d4ebff;}#sk-container-id-1 div.sk-serial::before {content: \"\";position: absolute;border-left: 1px solid gray;box-sizing: border-box;top: 0;bottom: 0;left: 50%;z-index: 0;}#sk-container-id-1 div.sk-serial {display: flex;flex-direction: column;align-items: center;background-color: white;padding-right: 0.2em;padding-left: 0.2em;position: relative;}#sk-container-id-1 div.sk-item {position: relative;z-index: 1;}#sk-container-id-1 div.sk-parallel {display: flex;align-items: stretch;justify-content: center;background-color: white;position: relative;}#sk-container-id-1 div.sk-item::before, #sk-container-id-1 div.sk-parallel-item::before {content: \"\";position: absolute;border-left: 1px solid gray;box-sizing: border-box;top: 0;bottom: 0;left: 50%;z-index: -1;}#sk-container-id-1 div.sk-parallel-item {display: flex;flex-direction: column;z-index: 1;position: relative;background-color: white;}#sk-container-id-1 div.sk-parallel-item:first-child::after {align-self: flex-end;width: 50%;}#sk-container-id-1 div.sk-parallel-item:last-child::after {align-self: flex-start;width: 50%;}#sk-container-id-1 div.sk-parallel-item:only-child::after {width: 0;}#sk-container-id-1 div.sk-dashed-wrapped {border: 1px dashed gray;margin: 0 0.4em 0.5em 0.4em;box-sizing: border-box;padding-bottom: 0.4em;background-color: white;}#sk-container-id-1 div.sk-label label {font-family: monospace;font-weight: bold;display: inline-block;line-height: 1.2em;}#sk-container-id-1 div.sk-label-container {text-align: center;}#sk-container-id-1 div.sk-container {/* jupyter's `normalize.less` sets `[hidden] { display: none; }` but bootstrap.min.css set `[hidden] { display: none !important; }` so we also need the `!important` here to be able to override the default hidden behavior on the sphinx rendered scikit-learn.org. See: https://github.com/scikit-learn/scikit-learn/issues/21755 */display: inline-block !important;position: relative;}#sk-container-id-1 div.sk-text-repr-fallback {display: none;}</style><div id=\"sk-container-id-1\" class=\"sk-top-container\"><div class=\"sk-text-repr-fallback\"><pre>RandomForestClassifier()</pre><b>In a Jupyter environment, please rerun this cell to show the HTML representation or trust the notebook. <br />On GitHub, the HTML representation is unable to render, please try loading this page with nbviewer.org.</b></div><div class=\"sk-container\" hidden><div class=\"sk-item\"><div class=\"sk-estimator sk-toggleable\"><input class=\"sk-toggleable__control sk-hidden--visually\" id=\"sk-estimator-id-1\" type=\"checkbox\" checked><label for=\"sk-estimator-id-1\" class=\"sk-toggleable__label sk-toggleable__label-arrow\">RandomForestClassifier</label><div class=\"sk-toggleable__content\"><pre>RandomForestClassifier()</pre></div></div></div></div></div>"
            ]
          },
          "metadata": {},
          "execution_count": 34
        }
      ],
      "source": [
        "rf.fit(X_train ,y_train)"
      ]
    },
    {
      "cell_type": "code",
      "source": [
        "test_df = pd.read_csv('test.txt',delimiter=';',names=['text','label'])"
      ],
      "metadata": {
        "id": "fjynfllp9YDp"
      },
      "execution_count": null,
      "outputs": []
    },
    {
      "cell_type": "code",
      "source": [
        "X_test,y_test = test_df.text,test_df.label\n",
        "#encode the labels into two classes , 0 and 1\n",
        "test_df = custom_encoder(y_test)\n",
        "#pre-processing of text\n",
        "test_corpus = transformation(X_test)\n",
        "#convert text data into vectors\n",
        "testdata = cv.transform(test_corpus)\n",
        "#predict the target\n",
        "predictions = rf.predict(testdata)"
      ],
      "metadata": {
        "id": "1tr9AWQR9pXN"
      },
      "execution_count": null,
      "outputs": []
    },
    {
      "cell_type": "code",
      "execution_count": null,
      "metadata": {
        "id": "EcbH1Tej0uun"
      },
      "outputs": [],
      "source": [
        "test_df = X_test, y_test"
      ]
    },
    {
      "cell_type": "code",
      "source": [
        "print(X_test.head())"
      ],
      "metadata": {
        "colab": {
          "base_uri": "https://localhost:8080/"
        },
        "id": "VsGKVl4--Dio",
        "outputId": "18ee1952-68ed-47b2-a52c-75dc3e56ce5b"
      },
      "execution_count": null,
      "outputs": [
        {
          "output_type": "stream",
          "name": "stdout",
          "text": [
            "0    im feeling rather rotten so im not very ambiti...\n",
            "1            im updating my blog because i feel shitty\n",
            "2    i never make her separate from me because i do...\n",
            "3    i left with my bouquet of red and yellow tulip...\n",
            "4      i was feeling a little vain when i did this one\n",
            "Name: text, dtype: object\n"
          ]
        }
      ]
    },
    {
      "cell_type": "code",
      "source": [
        "print(rf)"
      ],
      "metadata": {
        "colab": {
          "base_uri": "https://localhost:8080/"
        },
        "id": "UZATvRDK-Iuv",
        "outputId": "00bd1d8d-714c-451e-acde-7bee42e981d9"
      },
      "execution_count": null,
      "outputs": [
        {
          "output_type": "stream",
          "name": "stdout",
          "text": [
            "RandomForestClassifier()\n"
          ]
        }
      ]
    },
    {
      "cell_type": "code",
      "source": [
        "from sklearn.metrics import accuracy_score"
      ],
      "metadata": {
        "id": "n-4hK0H0_TFm"
      },
      "execution_count": null,
      "outputs": []
    },
    {
      "cell_type": "code",
      "source": [
        "\n",
        "from sklearn.feature_extraction.text import CountVectorizer\n",
        "from sklearn.ensemble import RandomForestClassifier\n",
        "\n",
        "# Define the function for sentiment analysis.\n",
        "def sentimental_analysis(input):\n",
        "    # Transform the input text.\n",
        "    new_input = transformation(input)\n",
        "\n",
        "    # Convert the transformed input into a vectorized format.\n",
        "    transformed_input = cv.transform([new_input])\n",
        "\n",
        "    # Make a prediction using the trained model.\n",
        "    prediction = rf.predict(transformed_input)[0]\n",
        "\n",
        "    # Print the sentiment based on the prediction.\n",
        "    if prediction == 0:\n",
        "        print('Negative Sentiment')\n",
        "    elif prediction == 1:\n",
        "        print('Positive Sentiment')\n",
        "    else:\n",
        "        print('Invalid Sentiment')\n",
        "\n",
        "\n",
        "print(transformation)\n",
        "\n",
        "print(cv)\n",
        "print(rf)\n"
      ],
      "metadata": {
        "colab": {
          "base_uri": "https://localhost:8080/"
        },
        "id": "j_YUMzx2BMXh",
        "outputId": "f0a02f94-9c80-49a4-ffb7-380f589721cf"
      },
      "execution_count": null,
      "outputs": [
        {
          "output_type": "stream",
          "name": "stdout",
          "text": [
            "<function transformation at 0x7f917ed57a30>\n",
            "CountVectorizer(ngram_range=(1, 2))\n",
            "RandomForestClassifier()\n"
          ]
        }
      ]
    },
    {
      "cell_type": "code",
      "source": [
        "!pip install textblob"
      ],
      "metadata": {
        "colab": {
          "base_uri": "https://localhost:8080/"
        },
        "id": "z7TCfym0GcE3",
        "outputId": "308b1781-4a6a-40fe-aee1-be9a22c8ee4f"
      },
      "execution_count": null,
      "outputs": [
        {
          "output_type": "stream",
          "name": "stdout",
          "text": [
            "Requirement already satisfied: textblob in /usr/local/lib/python3.10/dist-packages (0.17.1)\n",
            "Requirement already satisfied: nltk>=3.1 in /usr/local/lib/python3.10/dist-packages (from textblob) (3.8.1)\n",
            "Requirement already satisfied: click in /usr/local/lib/python3.10/dist-packages (from nltk>=3.1->textblob) (8.1.7)\n",
            "Requirement already satisfied: joblib in /usr/local/lib/python3.10/dist-packages (from nltk>=3.1->textblob) (1.4.2)\n",
            "Requirement already satisfied: regex>=2021.8.3 in /usr/local/lib/python3.10/dist-packages (from nltk>=3.1->textblob) (2023.12.25)\n",
            "Requirement already satisfied: tqdm in /usr/local/lib/python3.10/dist-packages (from nltk>=3.1->textblob) (4.66.4)\n"
          ]
        }
      ]
    },
    {
      "cell_type": "code",
      "source": [
        "from textblob import TextBlob"
      ],
      "metadata": {
        "id": "W6TenoriGg_U"
      },
      "execution_count": null,
      "outputs": []
    },
    {
      "cell_type": "code",
      "source": [
        "def sentimental_analysis(input):\n",
        "    # Convert the input into a TextBlob object.\n",
        "    text_blob = TextBlob(input)\n",
        "\n",
        "    # Analyze the sentiment of the text.\n",
        "    sentiment = text_blob.sentiment.polarity\n",
        "\n",
        "    # Print the sentiment score.\n",
        "    print(sentiment)"
      ],
      "metadata": {
        "id": "O6_rhJAVGlQs"
      },
      "execution_count": null,
      "outputs": []
    },
    {
      "cell_type": "code",
      "source": [
        "input1 = [\"Sometimes I just want to punch someone in the face.\"]\n",
        "input2 = [\"I bought a new phone and it's so good.\"]"
      ],
      "metadata": {
        "id": "Mp0VaT6ZExpm"
      },
      "execution_count": null,
      "outputs": []
    },
    {
      "cell_type": "code",
      "source": [
        "print(type(input1))\n",
        "print(type(input2))"
      ],
      "metadata": {
        "colab": {
          "base_uri": "https://localhost:8080/"
        },
        "id": "ccbft9pvF6Si",
        "outputId": "313199ec-05fe-4758-d9c7-25cc7e1cd8fb"
      },
      "execution_count": null,
      "outputs": [
        {
          "output_type": "stream",
          "name": "stdout",
          "text": [
            "<class 'list'>\n",
            "<class 'list'>\n"
          ]
        }
      ]
    },
    {
      "cell_type": "code",
      "source": [
        "print(input1[0].lower())"
      ],
      "metadata": {
        "colab": {
          "base_uri": "https://localhost:8080/"
        },
        "id": "MC6p801wF8xI",
        "outputId": "b6264421-1bb7-4ecc-b5d4-151c84d2d534"
      },
      "execution_count": null,
      "outputs": [
        {
          "output_type": "stream",
          "name": "stdout",
          "text": [
            "sometimes i just want to punch someone in the face.\n"
          ]
        }
      ]
    },
    {
      "cell_type": "code",
      "source": [
        "print(input2[0].lower())"
      ],
      "metadata": {
        "colab": {
          "base_uri": "https://localhost:8080/"
        },
        "id": "uFR2EaffGCzv",
        "outputId": "5e0829fd-3727-4842-d9f1-07d38b9cb94d"
      },
      "execution_count": null,
      "outputs": [
        {
          "output_type": "stream",
          "name": "stdout",
          "text": [
            "i bought a new phone and it's so good.\n"
          ]
        }
      ]
    },
    {
      "cell_type": "code",
      "source": [
        "input1 = input1[0]\n",
        "input2 = input2[0]"
      ],
      "metadata": {
        "id": "yW4QB8hwGI3g"
      },
      "execution_count": null,
      "outputs": []
    },
    {
      "cell_type": "code",
      "source": [
        "sentimental_analysis(input1)\n",
        "sentimental_analysis(input2)"
      ],
      "metadata": {
        "colab": {
          "base_uri": "https://localhost:8080/"
        },
        "id": "ycsnXg9IGPiD",
        "outputId": "c85fbb85-e3cc-40b7-edfd-d984e1bc90dd"
      },
      "execution_count": null,
      "outputs": [
        {
          "output_type": "stream",
          "name": "stdout",
          "text": [
            "0.0\n",
            "0.41818181818181815\n"
          ]
        }
      ]
    },
    {
      "cell_type": "code",
      "source": [
        "plot_confusion_matrix(y_test,predictions)\n",
        "acc_score = accuracy_score(y_test,predictions)"
      ],
      "metadata": {
        "colab": {
          "base_uri": "https://localhost:8080/",
          "height": 472
        },
        "id": "Nz9NNj28dXt6",
        "outputId": "7f6f2950-0681-4b90-b291-2587094de164"
      },
      "execution_count": null,
      "outputs": [
        {
          "output_type": "display_data",
          "data": {
            "text/plain": [
              "<Figure size 640x480 with 2 Axes>"
            ],
            "image/png": "[encoded data removed]"
          },
          "metadata": {}
        }
      ]
    },
    {
      "cell_type": "code",
      "source": [
        "print('Accuracy_score: ',acc_score)"
      ],
      "metadata": {
        "colab": {
          "base_uri": "https://localhost:8080/"
        },
        "id": "vglm6QwAdd7l",
        "outputId": "23619d8a-8606-4616-f171-e42590eace32"
      },
      "execution_count": null,
      "outputs": [
        {
          "output_type": "stream",
          "name": "stdout",
          "text": [
            "Accuracy_score:  0.9575\n"
          ]
        }
      ]
    },
    {
      "cell_type": "code",
      "source": [
        "input1 = [\"I was playing football and i fell\"]\n",
        "print(type(input1))"
      ],
      "metadata": {
        "colab": {
          "base_uri": "https://localhost:8080/"
        },
        "id": "x09UTIIPdzjR",
        "outputId": "bd109ee7-1ca6-4b54-9016-e72c0910981d"
      },
      "execution_count": null,
      "outputs": [
        {
          "output_type": "stream",
          "name": "stdout",
          "text": [
            "<class 'list'>\n"
          ]
        }
      ]
    },
    {
      "cell_type": "code",
      "source": [
        "print(input1[0].lower())"
      ],
      "metadata": {
        "colab": {
          "base_uri": "https://localhost:8080/"
        },
        "id": "rZu7IPTCevPw",
        "outputId": "1088e350-e2ae-4e66-ccd3-78e0bf453bf3"
      },
      "execution_count": null,
      "outputs": [
        {
          "output_type": "stream",
          "name": "stdout",
          "text": [
            "i was playing football and i fell\n"
          ]
        }
      ]
    },
    {
      "cell_type": "code",
      "source": [
        "input1 = input1[0]"
      ],
      "metadata": {
        "id": "R07NKHQgezaQ"
      },
      "execution_count": null,
      "outputs": []
    },
    {
      "cell_type": "code",
      "source": [
        "sentimental_analysis(input1)"
      ],
      "metadata": {
        "colab": {
          "base_uri": "https://localhost:8080/"
        },
        "id": "7a7MtZ_ie4oo",
        "outputId": "88bf026c-6e73-4b61-89bf-76526368c8b3"
      },
      "execution_count": null,
      "outputs": [
        {
          "output_type": "stream",
          "name": "stdout",
          "text": [
            "0.0\n"
          ]
        }
      ]
    }
  ],
  "metadata": {
    "colab": {
      "provenance": [],
      "authorship_tag": "ABX9TyO95Orr8VBDv2PzJp0nznNW",
      "include_colab_link": true
    },
    "kernelspec": {
      "display_name": "Python 3",
      "name": "python3"
    },
    "language_info": {
      "name": "python"
    }
  },
  "nbformat": 4,
  "nbformat_minor": 0
}